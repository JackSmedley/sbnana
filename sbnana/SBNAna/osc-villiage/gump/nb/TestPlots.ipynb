{
 "cells": [
  {
   "cell_type": "code",
   "execution_count": null,
   "id": "789c9ede",
   "metadata": {},
   "outputs": [],
   "source": [
    "import pandas as pd\n",
    "import numpy as np\n",
    "import matplotlib.pyplot as plt \n",
    "\n",
    "from util import *"
   ]
  },
  {
   "cell_type": "code",
   "execution_count": null,
   "id": "7f08aef0",
   "metadata": {},
   "outputs": [],
   "source": [
    "fname = \"/exp/sbnd/data/users/gputnam/gump.df\""
   ]
  },
  {
   "cell_type": "code",
   "execution_count": null,
   "id": "46cdc9c6",
   "metadata": {},
   "outputs": [],
   "source": [
    "mcdf = pd.read_hdf(fname, \"mcnu\")"
   ]
  },
  {
   "cell_type": "code",
   "execution_count": null,
   "id": "e26a312d",
   "metadata": {},
   "outputs": [],
   "source": [
    "mcdf.columns"
   ]
  },
  {
   "cell_type": "code",
   "execution_count": null,
   "id": "487c4fe6",
   "metadata": {},
   "outputs": [],
   "source": [
    "mcdf.genie_mode"
   ]
  },
  {
   "cell_type": "code",
   "execution_count": null,
   "id": "e0a482a4",
   "metadata": {},
   "outputs": [],
   "source": [
    "mcdf[:10]"
   ]
  },
  {
   "cell_type": "code",
   "execution_count": null,
   "id": "dd598d4c",
   "metadata": {},
   "outputs": [],
   "source": [
    "def issignal(df):\n",
    "    return InFV(df.position, 50) & (df.iscc) & (df.nmu == 1) & (df.np == 1)"
   ]
  },
  {
   "cell_type": "code",
   "execution_count": null,
   "id": "0877dbab",
   "metadata": {},
   "outputs": [],
   "source": [
    "evtdf = pd.read_hdf(fname, \"eevt\")"
   ]
  },
  {
   "cell_type": "code",
   "execution_count": null,
   "id": "eb59685e",
   "metadata": {},
   "outputs": [],
   "source": [
    "evtdf.truth[:10]"
   ]
  },
  {
   "cell_type": "code",
   "execution_count": null,
   "id": "a7459da0",
   "metadata": {},
   "outputs": [],
   "source": [
    "evtdf[:10].p"
   ]
  },
  {
   "cell_type": "code",
   "execution_count": null,
   "id": "8cc64257",
   "metadata": {},
   "outputs": [],
   "source": [
    "evtdf.truth"
   ]
  },
  {
   "cell_type": "code",
   "execution_count": null,
   "id": "86a3f107",
   "metadata": {},
   "outputs": [],
   "source": [
    "v = mcdf.E\n",
    "when = issignal(mcdf)\n",
    "\n",
    "_ = plt.hist(v[when])"
   ]
  },
  {
   "cell_type": "code",
   "execution_count": null,
   "id": "e74acb63",
   "metadata": {},
   "outputs": [],
   "source": [
    "bins = np.linspace(0, 5, 21)\n",
    "\n",
    "D, bins = np.histogram(mcdf.E[issignal(mcdf)], bins=bins)\n",
    "N, _ = np.histogram(evtdf.truth.E[issignal(evtdf.truth)], bins=bins)\n",
    "\n",
    "centers = (bins[:-1] + bins[1:]) / 2"
   ]
  },
  {
   "cell_type": "code",
   "execution_count": null,
   "id": "32decbd9",
   "metadata": {},
   "outputs": [],
   "source": [
    "plt.plot(centers, N/D)"
   ]
  },
  {
   "cell_type": "code",
   "execution_count": null,
   "id": "9e3b2f1d",
   "metadata": {},
   "outputs": [],
   "source": [
    "v = evtdf.mu.length\n",
    "cat = [issignal(evtdf.truth), ~issignal(evtdf.truth)]\n",
    "\n",
    "_ = plt.hist([v[c] for c in cat], bins=bins, stacked=True)"
   ]
  },
  {
   "cell_type": "code",
   "execution_count": null,
   "id": "1b5c8967",
   "metadata": {},
   "outputs": [],
   "source": []
  }
 ],
 "metadata": {
  "kernelspec": {
   "display_name": "Python 3 (ipykernel)",
   "language": "python",
   "name": "python3"
  },
  "language_info": {
   "codemirror_mode": {
    "name": "ipython",
    "version": 3
   },
   "file_extension": ".py",
   "mimetype": "text/x-python",
   "name": "python",
   "nbconvert_exporter": "python",
   "pygments_lexer": "ipython3",
   "version": "3.9.2"
  }
 },
 "nbformat": 4,
 "nbformat_minor": 5
}
