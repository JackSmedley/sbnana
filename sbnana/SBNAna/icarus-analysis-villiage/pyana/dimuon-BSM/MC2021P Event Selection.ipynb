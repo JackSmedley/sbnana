{
 "cells": [
  {
   "cell_type": "code",
   "execution_count": null,
   "id": "a082e702",
   "metadata": {},
   "outputs": [],
   "source": [
    "%load_ext autoreload\n",
    "%autoreload 2\n",
    "\n",
    "import uproot\n",
    "import matplotlib as mpl\n",
    "import matplotlib.pyplot as plt\n",
    "import matplotlib.colors as colors\n",
    "import matplotlib.cbook as cbook\n",
    "import numpy as np\n",
    "import pandas as pd\n",
    "from decimal import Decimal\n",
    "from scipy.stats import norm\n",
    "from scipy.optimize import curve_fit\n",
    "from scipy import stats\n",
    "import warnings\n",
    "import datetime as dt\n",
    "from scipy.interpolate import CubicSpline\n",
    "from matplotlib import gridspec\n",
    "\n",
    "import importlib\n",
    "import sklearn\n",
    "\n",
    "import xgboost as xgb\n",
    "\n",
    "# local imports\n",
    "from panda_helpers import *\n",
    "\n",
    "from makedf import *"
   ]
  },
  {
   "cell_type": "code",
   "execution_count": null,
   "id": "71804dc9",
   "metadata": {},
   "outputs": [],
   "source": [
    "plt.rcParams.update({'font.size': 16})\n",
    "mpl.rcParams['lines.linewidth'] = 4.\n",
    "\n",
    "dosave = False\n",
    "savedir = \"/icarus/app/users/gputnam/evtsel-ana/plots_Jan9/\"\n",
    "\n",
    "HMASS = 260\n",
    "labelM = \"$M_S$ = %iMeV\" % HMASS\n",
    "label = labelM + \"\\n$\\\\theta_S = 5\\\\cdot10^{-5}$\"\n",
    "\n",
    "# AMASS = 400\n",
    "# labelM = \"$M_a$ = %i MeV\" % AMASS\n",
    "# label = labelM + \"\\n$f_a$ = \\n$c_\\\\ell$ =\""
   ]
  },
  {
   "cell_type": "code",
   "execution_count": null,
   "id": "55e4cde4",
   "metadata": {},
   "outputs": [],
   "source": [
    "fnu = \"/icarus/data/users/gputnam/MCP2022GB/nu/nuall_redo.df\"\n",
    "\n",
    "# fnu = \"/icarus/data/users/gputnam/MCP2022P/mc/numi_2d_mc_evt.df\""
   ]
  },
  {
   "cell_type": "code",
   "execution_count": null,
   "id": "183faf7b",
   "metadata": {},
   "outputs": [],
   "source": [
    "nu_evtdf = pd.read_hdf(fnu, key=\"evtdf\")"
   ]
  },
  {
   "cell_type": "code",
   "execution_count": null,
   "id": "5ed91d63",
   "metadata": {},
   "outputs": [],
   "source": [
    "nu_evtdf"
   ]
  },
  {
   "cell_type": "code",
   "execution_count": null,
   "id": "c1bf2ada",
   "metadata": {},
   "outputs": [],
   "source": [
    "nu_mcdf = pd.read_hdf(fnu, key=\"numcdf\")"
   ]
  },
  {
   "cell_type": "code",
   "execution_count": null,
   "id": "faf07f4c",
   "metadata": {},
   "outputs": [],
   "source": [
    "nu_mcdf"
   ]
  },
  {
   "cell_type": "code",
   "execution_count": null,
   "id": "4d527be0",
   "metadata": {},
   "outputs": [],
   "source": [
    "nu_mcdf.lmom"
   ]
  },
  {
   "cell_type": "code",
   "execution_count": null,
   "id": "f2719092",
   "metadata": {},
   "outputs": [],
   "source": [
    "nu_hdr = pd.read_hdf(fnu, key=\"hdr\")"
   ]
  },
  {
   "cell_type": "code",
   "execution_count": null,
   "id": "fcdd75e4",
   "metadata": {},
   "outputs": [],
   "source": [
    "nu_hdr"
   ]
  },
  {
   "cell_type": "code",
   "execution_count": null,
   "id": "54f3c1be",
   "metadata": {},
   "outputs": [],
   "source": [
    "fh = \"/icarus/data/users/gputnam/MCP2022GB/higgs/MCP2021P-higgs-260.df\"\n",
    "# fh = \"/icarus/data/users/gputnam/MCP2022P/mc/alp_M400.df\"\n",
    "\n",
    "# fh = \"/icarus/data/users/gputnam/MCP2022P/mc/higgs_M240.df\""
   ]
  },
  {
   "cell_type": "code",
   "execution_count": null,
   "id": "afb80c92",
   "metadata": {},
   "outputs": [],
   "source": [
    "h_evtdf = pd.read_hdf(fh, key=\"evtdf\")"
   ]
  },
  {
   "cell_type": "code",
   "execution_count": null,
   "id": "0f2dd3e3",
   "metadata": {},
   "outputs": [],
   "source": [
    "h_evtdf"
   ]
  },
  {
   "cell_type": "code",
   "execution_count": null,
   "id": "7cc022cf",
   "metadata": {},
   "outputs": [],
   "source": [
    "h_mcdf = pd.read_hdf(fh, key=\"mcdf\")"
   ]
  },
  {
   "cell_type": "code",
   "execution_count": null,
   "id": "e1e47a6a",
   "metadata": {},
   "outputs": [],
   "source": [
    "h_mcdf"
   ]
  },
  {
   "cell_type": "code",
   "execution_count": null,
   "id": "b31e457a",
   "metadata": {},
   "outputs": [],
   "source": [
    "h_hdr = pd.read_hdf(fh, key=\"hdr\")"
   ]
  },
  {
   "cell_type": "code",
   "execution_count": null,
   "id": "14441e99",
   "metadata": {},
   "outputs": [],
   "source": [
    "h_hdr"
   ]
  },
  {
   "cell_type": "code",
   "execution_count": null,
   "id": "ffb96ef1",
   "metadata": {},
   "outputs": [],
   "source": [
    "fic = \"/icarus/data/users/gputnam/MCP2022GB/cosmic/intc_5000.df\""
   ]
  },
  {
   "cell_type": "code",
   "execution_count": null,
   "id": "4fa0e91a",
   "metadata": {},
   "outputs": [],
   "source": [
    "ic_evtdf = pd.read_hdf(fic, key=\"evtdf\")"
   ]
  },
  {
   "cell_type": "code",
   "execution_count": null,
   "id": "849dfb7f",
   "metadata": {},
   "outputs": [],
   "source": [
    "ic_evtdf"
   ]
  },
  {
   "cell_type": "code",
   "execution_count": null,
   "id": "4c666334",
   "metadata": {},
   "outputs": [],
   "source": [
    "ic_hdr = pd.read_hdf(fic, key=\"hdr\")"
   ]
  },
  {
   "cell_type": "code",
   "execution_count": null,
   "id": "4123c6df",
   "metadata": {},
   "outputs": [],
   "source": [
    "ic_hdr"
   ]
  },
  {
   "cell_type": "code",
   "execution_count": null,
   "id": "17aa4de3",
   "metadata": {},
   "outputs": [],
   "source": [
    "nu_mcdf.index = nu_mcdf.index.set_levels(nu_mcdf.index.levels[0] + 1, level=0)"
   ]
  },
  {
   "cell_type": "code",
   "execution_count": null,
   "id": "4f21b58a",
   "metadata": {},
   "outputs": [],
   "source": [
    "def sample_concat(dfA, dfB, offset=1_000_000):\n",
    "    dfB = dfB.copy()\n",
    "    # dfB.index = dfB.index.set_levels(dfB.index.levels[0] + dfA.index.max()[0] + 1, level=0)\n",
    "    dfB.index = dfB.index.set_levels(dfB.index.levels[0] + offset, level=0)\n",
    "    return dfA.append(dfB)"
   ]
  },
  {
   "cell_type": "code",
   "execution_count": null,
   "id": "89874817",
   "metadata": {},
   "outputs": [],
   "source": [
    "nu_pot = np.sum(nu_hdr.pot * nu_hdr.first_in_subrun)\n",
    "h_pot = np.sum(h_hdr.pot * h_hdr.first_in_subrun)"
   ]
  },
  {
   "cell_type": "code",
   "execution_count": null,
   "id": "5f60df08",
   "metadata": {},
   "outputs": [],
   "source": [
    "nu_hdr.pot"
   ]
  },
  {
   "cell_type": "code",
   "execution_count": null,
   "id": "c61d97e1",
   "metadata": {},
   "outputs": [],
   "source": [
    "nu_evt_per_spill = np.sum(nu_hdr.ngenevt*nu_hdr.first_in_subrun) / (np.sum(nu_hdr.pot*nu_hdr.first_in_subrun) / 6e13)\n",
    "ic_pot = np.sum(ic_hdr.ngenevt * ic_hdr.first_in_subrun * 6e13) / (1 - nu_evt_per_spill)"
   ]
  },
  {
   "cell_type": "code",
   "execution_count": null,
   "id": "997ea645",
   "metadata": {},
   "outputs": [],
   "source": []
  },
  {
   "cell_type": "code",
   "execution_count": null,
   "id": "fba699c8",
   "metadata": {},
   "outputs": [],
   "source": [
    "GOAL_POT = 2e20 \n",
    "nu_evtdf[\"scale\"] = GOAL_POT / nu_pot\n",
    "h_evtdf[\"scale\"] = GOAL_POT / h_pot\n",
    "ic_evtdf[\"scale\"] = GOAL_POT / ic_pot\n",
    "\n",
    "nu_mcdf[\"scale\"] = GOAL_POT / nu_pot\n",
    "h_mcdf[\"scale\"] = GOAL_POT / h_pot\n",
    "\n",
    "POTSTR = \"2e20 POT\""
   ]
  },
  {
   "cell_type": "code",
   "execution_count": null,
   "id": "11268138",
   "metadata": {},
   "outputs": [],
   "source": [
    "ic_pot, nu_pot"
   ]
  },
  {
   "cell_type": "code",
   "execution_count": null,
   "id": "2c02f239",
   "metadata": {},
   "outputs": [],
   "source": [
    "h_evtdf[\"higgs\"] = True\n",
    "nu_evtdf[\"higgs\"] = False\n",
    "ic_evtdf[\"higgs\"] = False"
   ]
  },
  {
   "cell_type": "code",
   "execution_count": null,
   "id": "c44dc448",
   "metadata": {},
   "outputs": [],
   "source": [
    "def decay_weight(in_dist, out_dist, mean_dist):\n",
    "    return np.exp(-in_dist / mean_dist) - \\\n",
    "          np.exp(-out_dist / mean_dist)\n",
    "    \n",
    "def flux_weight(mixing):\n",
    "    return mixing * mixing\n",
    "\n",
    "def reweight_mixing(newmixing, start, enter, exit, mean_dist, oldmixing=1e-5):\n",
    "    dist_in = dist(enter, start)\n",
    "    dist_out = dist(exit, start)\n",
    "    \n",
    "    old_dcy = decay_weight(dist_in, dist_out, mean_dist)\n",
    "    new_dcy = decay_weight(dist_in, dist_out, mean_dist / (newmixing**2 / oldmixing**2))\n",
    "    \n",
    "    old_flux = flux_weight(oldmixing)\n",
    "    new_flux = flux_weight(newmixing)\n",
    "    \n",
    "    return (new_flux / old_flux) * (new_dcy / old_dcy)"
   ]
  },
  {
   "cell_type": "code",
   "execution_count": null,
   "id": "b9d3e1c9",
   "metadata": {},
   "outputs": [],
   "source": [
    "reweight_mixing"
   ]
  },
  {
   "cell_type": "code",
   "execution_count": null,
   "id": "3d5419b3",
   "metadata": {},
   "outputs": [],
   "source": [
    "var = nu_mcdf.E\n",
    "when = SlcInFV(nu_mcdf.position)\n",
    "bins = np.linspace(0, 5, 21)\n",
    "\n",
    "_ = plt.hist([var[when & (nu_mcdf.genie_mode == 3) & nu_mcdf.iscc],\n",
    "              var[when & (nu_mcdf.np == 0) & ((nu_mcdf.genie_mode != 3) | (nu_mcdf.iscc == 0))],\n",
    "              var[when & (nu_mcdf.np > 0)],\n",
    "             ],\n",
    "              weights=[\n",
    "                  nu_mcdf.scale[when & (nu_mcdf.genie_mode == 3) & nu_mcdf.iscc],\n",
    "                  nu_mcdf.scale[when & (nu_mcdf.np == 0) & ((nu_mcdf.genie_mode != 3) | (nu_mcdf.iscc == 0))],\n",
    "                  nu_mcdf.scale[when & (nu_mcdf.np > 0)]\n",
    "              ],\n",
    "              bins=bins, label=[\"CC Coh\", \"No p\", \"With p\"],\n",
    "             stacked=True\n",
    "            )\n",
    "plt.ylabel(\"Fiducial Neutrinos / %s\" % POTSTR)\n",
    "plt.xlabel(\"Neutrino Energy [GeV]\")\n",
    "plt.legend()\n",
    "plt.tight_layout()\n",
    "\n",
    "if dosave: plt.savefig(savedir + \"neutrino_energy_splitnu.pdf\")"
   ]
  },
  {
   "cell_type": "code",
   "execution_count": null,
   "id": "e53d004b",
   "metadata": {},
   "outputs": [],
   "source": [
    "var = nu_mcdf.E\n",
    "when = SlcInFV(nu_mcdf.position)\n",
    "bins = np.linspace(0, 10, 21)\n",
    "\n",
    "_ = plt.hist([var[when & (nu_mcdf.genie_mode == 3) & nu_mcdf.iscc],],\n",
    "              weights=[nu_mcdf.scale[when & (nu_mcdf.genie_mode == 3) & nu_mcdf.iscc],],\n",
    "              bins=bins, label=[\"CC Coh\"],\n",
    "             stacked=True\n",
    "            )\n",
    "plt.ylabel(\"Fiducial Neutrinos / %s\" % POTSTR)\n",
    "plt.xlabel(\"Neutrino Energy [GeV]\")\n",
    "plt.legend()\n",
    "plt.tight_layout()\n",
    "\n",
    "if dosave: plt.savefig(savedir + \"neutrino_energy_cohnu.pdf\")"
   ]
  },
  {
   "cell_type": "code",
   "execution_count": null,
   "id": "34200a3f",
   "metadata": {},
   "outputs": [],
   "source": [
    "var = nu_mcdf.E\n",
    "when = SlcInFV(nu_mcdf.position)\n",
    "bins = np.linspace(0, 5, 21)\n",
    "\n",
    "_ = plt.hist(var[when], bins=bins, weights=nu_mcdf.scale[when])\n",
    "plt.ylabel(\"Fiducial Neutrinos / %s\" % POTSTR)\n",
    "plt.xlabel(\"Neutrino Energy [GeV]\")\n",
    "plt.tight_layout()\n",
    "\n",
    "if dosave: plt.savefig(savedir + \"neutrino_energy.pdf\")"
   ]
  },
  {
   "cell_type": "code",
   "execution_count": null,
   "id": "de2d1e88",
   "metadata": {},
   "outputs": [],
   "source": [
    "var = h_mcdf.E\n",
    "when = SlcInFV(h_mcdf.position)\n",
    "bins = np.linspace(0, 5, 21)\n",
    "bins = np.linspace(0, 10, 21)\n",
    "\n",
    "_ = plt.hist(var[when], bins=bins, weights=h_mcdf.scale[when])\n",
    "plt.ylabel(\"Fiducial Scalars / %s\" % POTSTR)\n",
    "plt.xlabel(\"Scalar Energy [GeV]\")\n",
    "plt.tight_layout()\n",
    "plt.text(0.6, 0.6, label, fontsize=18, transform=plt.gca().transAxes)\n",
    "if dosave: plt.savefig(savedir + \"scalar_energy_M%i.pdf\" % HMASS)"
   ]
  },
  {
   "cell_type": "code",
   "execution_count": null,
   "id": "5d6f8a0c",
   "metadata": {},
   "outputs": [],
   "source": [
    "numu_cc = (np.abs(nu_mcdf.pdg) == 14) & nu_mcdf.iscc\n",
    "\n",
    "mc_is_nu_coh = (nu_mcdf.genie_mode == 3) & numu_cc\n",
    "mc_is_nu_coh.name = \"$\\\\nu_\\\\mu$ CC COH\"\n",
    "\n",
    "mc_is_nu_pi = (nu_mcdf.npi >= 1) & (nu_mcdf.max_proton_ke < 0.02) & (nu_mcdf.npi0 == 0) & ~mc_is_nu_coh & numu_cc\n",
    "mc_is_nu_pi.name = \"$\\\\nu_\\\\mu$ CC n$\\\\pi$0p\"\n",
    "                                              \n",
    "mc_is_nu_pip = (nu_mcdf.npi >= 1) & (nu_mcdf.max_proton_ke >= 0.02) & (nu_mcdf.npi0 == 0) & ~mc_is_nu_coh & numu_cc\n",
    "mc_is_nu_pip.name = \"$\\\\nu_\\\\mu$ CC n$\\\\pi$np\"                                              \n",
    "\n",
    "mc_is_nu_other = ~mc_is_nu_coh & ~mc_is_nu_pi & ~mc_is_nu_pip & numu_cc\n",
    "mc_is_nu_other.name = \"$\\\\nu_\\\\mu$ CC Other\""
   ]
  },
  {
   "cell_type": "code",
   "execution_count": null,
   "id": "d1b6dc18",
   "metadata": {},
   "outputs": [],
   "source": [
    "mc_nucategories = [mc_is_nu_other, mc_is_nu_pip, mc_is_nu_pi, mc_is_nu_coh] #[mc_is_nu_pi, mc_is_nu_pip, mc_is_nu_coh, mc_is_nu_other]"
   ]
  },
  {
   "cell_type": "code",
   "execution_count": null,
   "id": "7e0c2ab8",
   "metadata": {},
   "outputs": [],
   "source": [
    "modes = [0, 1, 2, 3, 10]\n",
    "names = [\"QE\", \"RES\", \"DIS\", \"COH\", \"MEC\"]"
   ]
  },
  {
   "cell_type": "code",
   "execution_count": null,
   "id": "4c3d109c",
   "metadata": {},
   "outputs": [],
   "source": [
    "var = nu_mcdf.E\n",
    "\n",
    "when = SlcInFV(nu_mcdf.position)\n",
    "\n",
    "bins = np.linspace(0, 10, 21)\n",
    "\n",
    "N,_,_ = plt.hist([var[when & c] for c in mc_nucategories], \n",
    "         weights=[nu_mcdf.scale[when & c]/10 for c in mc_nucategories], bins=bins, \n",
    "         label=[c.name for c in mc_nucategories], \n",
    "        stacked=True, linewidth=2)\n",
    "plt.legend()\n",
    "\n",
    "#plt.ticklabel_format(axis='y', style='sci', scilimits=(4,4))\n",
    "plt.tight_layout()\n",
    "plt.xlabel(\"Neutrino Energy [GeV]\")\n",
    "plt.title(\"ICARUS MC\")\n",
    "plt.ylabel(\"Neutrinos / %s\" % POTSTR)\n",
    "print(N.sum())\n",
    "plt.tight_layout()\n",
    "if dosave: plt.savefig(savedir + \"all_nue_mccategories.pdf\")"
   ]
  },
  {
   "cell_type": "code",
   "execution_count": null,
   "id": "7fd081df",
   "metadata": {},
   "outputs": [],
   "source": [
    "var = nu_mcdf.lmom\n",
    "\n",
    "when = SlcInFV(nu_mcdf.position)\n",
    "\n",
    "bins = np.linspace(0, 5, 21)\n",
    "\n",
    "N,_,_ = plt.hist([var[when & c] for c in mc_nucategories], \n",
    "         weights=[nu_mcdf.scale[when & c]/10 for c in mc_nucategories], bins=bins, \n",
    "         label=[c.name for c in mc_nucategories], \n",
    "        stacked=True, linewidth=2)\n",
    "plt.legend()\n",
    "\n",
    "#plt.ticklabel_format(axis='y', style='sci', scilimits=(4,4))\n",
    "plt.tight_layout()\n",
    "plt.xlabel(\"Muon Momentum [GeV]\")\n",
    "plt.title(\"ICARUS MC\")\n",
    "plt.ylabel(\"Neutrinos / %s\" % POTSTR)\n",
    "print(N.sum())\n",
    "plt.tight_layout()\n",
    "if dosave: plt.savefig(savedir + \"all_lmom_mccategories.pdf\")"
   ]
  },
  {
   "cell_type": "code",
   "execution_count": null,
   "id": "7ce2f883",
   "metadata": {},
   "outputs": [],
   "source": [
    "var = nu_mcdf.E\n",
    "\n",
    "when = SlcInFV(nu_mcdf.position) & numu_cc\n",
    "\n",
    "bins = np.linspace(0, 10, 21)\n",
    "\n",
    "# for c in nucategories:\n",
    "_ = plt.hist([var[when & (nu_mcdf.genie_mode == m)] for m in modes], \n",
    "             weights=[nu_mcdf.scale[when & (nu_mcdf.genie_mode == m)]/10 for m in modes], bins=bins, \n",
    "             label=names, \n",
    "                 stacked=True, linewidth=2)\n",
    "plt.legend()\n",
    "\n",
    "#plt.ticklabel_format(axis='y', style='sci', scilimits=(4,4))\n",
    "plt.tight_layout()\n",
    "plt.xlabel(\"Neutrino Energy [GeV]\")\n",
    "plt.title(\"ICARUS MC\")\n",
    "plt.ylabel(\"Neutrinos / %s\" % POTSTR)\n",
    "\n",
    "plt.tight_layout()\n",
    "if dosave: plt.savefig(savedir + \"all_nue_intmodes.pdf\")"
   ]
  },
  {
   "cell_type": "code",
   "execution_count": null,
   "id": "436a5d88",
   "metadata": {},
   "outputs": [],
   "source": [
    "var = nu_mcdf.lmom\n",
    "\n",
    "when = SlcInFV(nu_mcdf.position) & numu_cc\n",
    "\n",
    "bins = np.linspace(0, 5, 21)\n",
    "\n",
    "# for c in nucategories:\n",
    "_ = plt.hist([var[when & (nu_mcdf.genie_mode == m)] for m in modes], \n",
    "             weights=[nu_mcdf.scale[when & (nu_mcdf.genie_mode == m)]/10 for m in modes], bins=bins, \n",
    "             label=names, \n",
    "                 stacked=True, linewidth=2)\n",
    "plt.legend()\n",
    "\n",
    "#plt.ticklabel_format(axis='y', style='sci', scilimits=(4,4))\n",
    "plt.tight_layout()\n",
    "plt.xlabel(\"Muon Momentum [GeV]\")\n",
    "plt.title(\"ICARUS MC\")\n",
    "plt.ylabel(\"Neutrinos / %s\" % POTSTR)\n",
    "\n",
    "plt.tight_layout()\n",
    "if dosave: plt.savefig(savedir + \"all_lmom_intmodes.pdf\")"
   ]
  },
  {
   "cell_type": "code",
   "execution_count": null,
   "id": "f7156cd3",
   "metadata": {},
   "outputs": [],
   "source": [
    "evtdf = sample_concat(sample_concat(h_evtdf, nu_evtdf, offset=1), ic_evtdf)"
   ]
  },
  {
   "cell_type": "code",
   "execution_count": null,
   "id": "d4f91ce7",
   "metadata": {},
   "outputs": [],
   "source": []
  },
  {
   "cell_type": "code",
   "execution_count": null,
   "id": "2c024325",
   "metadata": {},
   "outputs": [],
   "source": [
    "is_higgs = (evtdf.slc.tmatch.idx >= 0) & evtdf.higgs & (evtdf.slc.truth.npi == 0) &(evtdf.slc.truth.npi0 == 0)\n",
    "is_higgs.name = \"Scalar\"\n",
    "is_nu = (evtdf.slc.tmatch.idx >= 0) & ~evtdf.higgs\n",
    "is_nu.name = \"$\\\\nu$\"\n",
    "is_cosmic = evtdf.slc.tmatch.idx < 0\n",
    "is_cosmic.name = \"Cosmic\""
   ]
  },
  {
   "cell_type": "code",
   "execution_count": null,
   "id": "d427b11d",
   "metadata": {},
   "outputs": [],
   "source": [
    "categories = [is_higgs, is_nu, is_cosmic]"
   ]
  },
  {
   "cell_type": "code",
   "execution_count": null,
   "id": "8a6faae4",
   "metadata": {},
   "outputs": [],
   "source": [
    "evt_numu_cc = (np.abs(evtdf.slc.truth.pdg) == 14) & evtdf.slc.truth.iscc\n",
    "\n",
    "is_nu_coh = is_nu & (evtdf.slc.truth.genie_mode == 3) & (evtdf.slc.truth.iscc) & evt_numu_cc\n",
    "is_nu_coh.name = \"$\\\\nu_\\\\mu$ CC COH\"\n",
    "\n",
    "is_nu_pi = is_nu & (evtdf.slc.truth.npi >= 1) & (evtdf.slc.truth.max_proton_ke < 0.02) & (evtdf.slc.truth.npi0 == 0) & (evtdf.slc.truth.iscc) & evt_numu_cc & ~is_nu_coh\n",
    "is_nu_pi.name = \"$\\\\nu_\\\\mu$ CC n$\\\\pi$0p\"\n",
    "                                              \n",
    "is_nu_pip = is_nu & (evtdf.slc.truth.npi >= 1) & (evtdf.slc.truth.max_proton_ke >= 0.02) & (evtdf.slc.truth.npi0 == 0) & (evtdf.slc.truth.iscc) & evt_numu_cc & ~is_nu_coh\n",
    "is_nu_pip.name = \"$\\\\nu_\\\\mu$ CC n$\\\\pi$np\"                                              \n",
    "\n",
    "is_nu_other = is_nu  & ~is_nu_coh & ~is_nu_pi & ~is_nu_pip\n",
    "is_nu_other.name = \"$\\\\nu$ Other\""
   ]
  },
  {
   "cell_type": "code",
   "execution_count": null,
   "id": "e05a954f",
   "metadata": {},
   "outputs": [],
   "source": [
    "nucategories = [is_nu_other, is_nu_pip, is_nu_pi, is_nu_coh]"
   ]
  },
  {
   "cell_type": "code",
   "execution_count": null,
   "id": "6098c406",
   "metadata": {},
   "outputs": [],
   "source": [
    "scale = evtdf.scale.copy()\n",
    "# scale[is_higgs] = evtdf.scale"
   ]
  },
  {
   "cell_type": "code",
   "execution_count": null,
   "id": "c5037dd7",
   "metadata": {},
   "outputs": [],
   "source": [
    "var = np.maximum(evtdf.trunk.len, evtdf.branch.len)\n",
    "\n",
    "when = SlcInFV(evtdf.slc.vertex) & ~np.isnan(evtdf.slc.nu_score)\n",
    "\n",
    "bins = np.linspace(0, 400, 21)\n",
    "\n",
    "# for c in nucategories:\n",
    "_ = plt.hist([var[when & c] for c in [is_cosmic] + nucategories], \n",
    "             weights=[scale[when & c]/10 for c in [is_cosmic] + nucategories], bins=bins, \n",
    "             label=[c.name for c in [is_cosmic] + nucategories], \n",
    "                 stacked=True, linewidth=2)\n",
    "plt.legend()\n",
    "\n",
    "#plt.ticklabel_format(axis='y', style='sci', scilimits=(4,4))\n",
    "plt.tight_layout()\n",
    "plt.xlabel(\"Maximum Track Length [cm]\")\n",
    "plt.title(\"ICARUS MC\")\n",
    "plt.ylabel(\"Candidates / %s\" % POTSTR)\n",
    "\n",
    "plt.tight_layout()\n",
    "if dosave: plt.savefig(savedir + \"allevt_trklen.pdf\")"
   ]
  },
  {
   "cell_type": "code",
   "execution_count": null,
   "id": "0fbfe66b",
   "metadata": {},
   "outputs": [],
   "source": [
    "evtdf.trunk.truth[is_higgs][:50]"
   ]
  },
  {
   "cell_type": "code",
   "execution_count": null,
   "id": "a73303ae",
   "metadata": {},
   "outputs": [],
   "source": [
    "_ = plt.hist(evtdf.slc.tmatch.eff[is_higgs], histtype=\"step\", density=True)\n",
    "_ = plt.hist(evtdf.slc.tmatch.eff[is_nu], histtype=\"step\", density=True)"
   ]
  },
  {
   "cell_type": "code",
   "execution_count": null,
   "id": "8a23ce42",
   "metadata": {},
   "outputs": [],
   "source": [
    "when = SlcInFV(evtdf.slc.vertex)\n",
    "\n",
    "var = evtdf.third_trk_dist.copy()\n",
    "var[np.isnan(var)] = -10\n",
    "\n",
    "bins = [-12, -8] + list(np.linspace(0, 100, 26))\n",
    "# bins = np.linspace(0, 100, 26)\n",
    "\n",
    "for c in categories:\n",
    "    _ = plt.hist(var[when & c], weights=scale[when & c], bins=bins, label=c.name, histtype=\"step\", linewidth=2, density=True)\n",
    "plt.legend()\n",
    "plt.xlabel(\"Third Track Distance to Vertex [cm]\")\n",
    "\n",
    "plt.ylabel(\"Area Normalzied\")\n",
    "plt.yscale(\"log\")\n",
    "\n",
    "plt.tight_layout()\n",
    "plt.text(0.6, 0.4, label, transform=plt.gca().transAxes, fontsize=18)\n",
    "\n",
    "plt.title(\"No Cut\", color=\"r\")\n",
    "\n",
    "if dosave: plt.savefig(savedir + \"third_track_dist_M%i.pdf\" % HMASS)"
   ]
  },
  {
   "cell_type": "code",
   "execution_count": null,
   "id": "5a9ce24e",
   "metadata": {},
   "outputs": [],
   "source": [
    "when = SlcInFV(evtdf.slc.vertex)\n",
    "\n",
    "var = evtdf.max_shw_len.copy()\n",
    "var[np.isnan(var) | (var < 0)] = -10\n",
    "\n",
    "bins = [-12, -8] + list(np.linspace(0, 100, 26))\n",
    "\n",
    "for c in categories:\n",
    "    _ = plt.hist(var[when & c], weights=scale[when & c], bins=bins, label=c.name, histtype=\"step\", linewidth=2, density=True)\n",
    "plt.legend()\n",
    "plt.xlabel(\"Max Shower Length [cm]\")\n",
    "\n",
    "plt.ylabel(\"Area Normalized\")\n",
    "plt.yscale(\"log\")\n",
    "\n",
    "plt.axvline([20], linestyle=\":\", color=\"r\", linewidth=2)\n",
    "\n",
    "plt.text(0.6, 0.4, label, transform=plt.gca().transAxes, fontsize=18)\n",
    "\n",
    "plt.tight_layout()\n",
    "\n",
    "if dosave: plt.savefig(savedir + \"max_shw_len_M%i.pdf\" % HMASS)"
   ]
  },
  {
   "cell_type": "code",
   "execution_count": null,
   "id": "20968c11",
   "metadata": {},
   "outputs": [],
   "source": [
    "when = SlcInFV(evtdf.slc.vertex)\n",
    "var = evtdf.slc.fmatch.score\n",
    "\n",
    "bins = np.linspace(0, 80, 21)\n",
    "\n",
    "for c in categories:\n",
    "    _ = plt.hist(var[when & c], weights=scale[when & c], bins=bins, label=c.name, histtype=\"step\", linewidth=2, density=True)\n",
    "plt.legend()\n",
    "\n",
    "plt.xlabel(\"Flash Score\")\n",
    "\n",
    "plt.ylabel(\"Area Normalized\")\n",
    "plt.axvline([20], linestyle=\":\", color=\"r\", linewidth=2)\n",
    "\n",
    "plt.tight_layout()\n",
    "plt.text(0.6, 0.4, label, transform=plt.gca().transAxes, fontsize=18)\n",
    "\n",
    "if dosave: plt.savefig(savedir + \"f_score_M%i.pdf\" % HMASS)"
   ]
  },
  {
   "cell_type": "code",
   "execution_count": null,
   "id": "11520afc",
   "metadata": {},
   "outputs": [],
   "source": [
    "when = SlcInFV(evtdf.slc.vertex)\n",
    "var = evtdf.slc.nu_score\n",
    "\n",
    "bins = np.linspace(0, 1, 21)\n",
    "\n",
    "for c in categories:\n",
    "    _ = plt.hist(var[when & c], weights=scale[when & c], bins=bins, label=c.name, histtype=\"step\", linewidth=2, density=True)\n",
    "plt.legend(loc=\"upper left\")\n",
    "\n",
    "plt.xlabel(\"Pandora $\\\\nu$-Score\")\n",
    "\n",
    "plt.ylabel(\"Area Normalized\")\n",
    "plt.axvline([0.4], linestyle=\":\", color=\"r\", linewidth=2)\n",
    "\n",
    "plt.text(0.01, 0.4, label, transform=plt.gca().transAxes, fontsize=18)\n",
    "plt.tight_layout()\n",
    "\n",
    "if dosave: plt.savefig(savedir + \"nu_score_M%i.pdf\" % HMASS)"
   ]
  },
  {
   "cell_type": "code",
   "execution_count": null,
   "id": "96dd39e3",
   "metadata": {},
   "outputs": [],
   "source": [
    "when = SlcInFV(evtdf.slc.vertex) & TrkInFV(evtdf.trunk.end)\n",
    "var = evtdf.trunk.chi2pid.I2.chi2_muon\n",
    "\n",
    "bins = np.linspace(0, 80, 21)\n",
    "\n",
    "for c in categories:\n",
    "    _ = plt.hist(var[when & c], weights=scale[when & c], bins=bins, label=c.name, histtype=\"step\", linewidth=2, density=True)\n",
    "plt.legend()\n",
    "\n",
    "plt.xlabel(\"Trunk Track Col. Plane $\\\\chi^2$ Muon (Contained)\")\n",
    "\n",
    "plt.ylabel(\"Area Normalized\")\n",
    "plt.tight_layout()\n",
    "plt.axvline([40], linestyle=\":\", color=\"r\", linewidth=2)\n",
    "\n",
    "plt.text(0.6, 0.4, label, transform=plt.gca().transAxes, fontsize=18)\n",
    "\n",
    "if dosave: plt.savefig(savedir +\"trunk_chi2_muon_M%i.pdf\" % HMASS)"
   ]
  },
  {
   "cell_type": "code",
   "execution_count": null,
   "id": "0b5ebdeb",
   "metadata": {},
   "outputs": [],
   "source": [
    "when = SlcInFV(evtdf.slc.vertex) & TrkInFV(evtdf.trunk.end)\n",
    "var = evtdf.trunk.chi2pid.I2.chi2_proton\n",
    "\n",
    "bins = np.linspace(0, 400, 21)\n",
    "\n",
    "for c in categories:\n",
    "    _ = plt.hist(var[when & c], weights=scale[when & c], bins=bins, label=c.name, histtype=\"step\", linewidth=2, density=True)\n",
    "plt.legend()\n",
    "\n",
    "plt.xlabel(\"Trunk Track Col. Plane $\\\\chi^2$ Proton (Contained)\")\n",
    "\n",
    "plt.ylabel(\"Area Normalized\")\n",
    "plt.tight_layout()\n",
    "plt.axvline([60], linestyle=\":\", color=\"r\", linewidth=2)\n",
    "\n",
    "plt.text(0.6, 0.4, label, transform=plt.gca().transAxes, fontsize=18)\n",
    "\n",
    "if dosave: plt.savefig(savedir +\"trunk_chi2_proton_M%i.pdf\" % HMASS)"
   ]
  },
  {
   "cell_type": "code",
   "execution_count": null,
   "id": "a0a27250",
   "metadata": {},
   "outputs": [],
   "source": [
    "when = SlcInFV(evtdf.slc.vertex) & TrkInFV(evtdf.trunk.end)\n",
    "var = evtdf.trunk.chi2pid.I2.chi2_proton\n",
    "\n",
    "bins = np.linspace(0, 400, 21)\n",
    "\n",
    "for c in categories:\n",
    "    _ = plt.hist(var[when & c], weights=scale[when & c], bins=bins, label=c.name, histtype=\"step\", linewidth=2, density=True)\n",
    "plt.legend()\n",
    "\n",
    "plt.xlabel(\"Trunk Track Col. Plane $\\\\chi^2$ Proton (Contained)\")\n",
    "\n",
    "plt.ylabel(\"Area Normalized\")\n",
    "plt.tight_layout()\n",
    "plt.axvline([60], linestyle=\":\", color=\"r\", linewidth=2)\n",
    "\n",
    "plt.text(0.6, 0.4, label, transform=plt.gca().transAxes, fontsize=18)\n",
    "\n",
    "if dosave: plt.savefig(savedir +\"trunk_chi2_proton_M%i.pdf\" % HMASS)"
   ]
  },
  {
   "cell_type": "code",
   "execution_count": null,
   "id": "1e2f5e34",
   "metadata": {},
   "outputs": [],
   "source": [
    "when = SlcInFV(evtdf.slc.vertex) & TrkInFV(evtdf.trunk.end)\n",
    "var = evtdf.trunk.len\n",
    "\n",
    "bins = np.linspace(0, 400, 21)\n",
    "\n",
    "for c in categories:\n",
    "    _ = plt.hist(var[when & c], weights=scale[when & c], bins=bins, label=c.name, histtype=\"step\", linewidth=2, density=True)\n",
    "plt.legend()\n",
    "\n",
    "plt.xlabel(\"Trunk Len [cm] (Contained)\")\n",
    "\n",
    "plt.ylabel(\"Area Normalized\")\n",
    "plt.tight_layout()\n",
    "#nplt.axvline([60], linestyle=\":\", color=\"r\", linewidth=2)\n",
    "\n",
    "plt.text(0.6, 0.4, label, transform=plt.gca().transAxes, fontsize=18)\n",
    "\n",
    "if dosave: plt.savefig(savedir +\"trunk_cont_len_M%i.pdf\" % HMASS)"
   ]
  },
  {
   "cell_type": "code",
   "execution_count": null,
   "id": "d98fdf83",
   "metadata": {},
   "outputs": [],
   "source": [
    "when = SlcInFV(evtdf.slc.vertex) & ~TrkInFV(evtdf.trunk.end)\n",
    "var = evtdf.trunk.len\n",
    "\n",
    "bins = np.linspace(0, 600, 21)\n",
    "\n",
    "for c in categories:\n",
    "    _ = plt.hist(var[when & c], weights=scale[when & c], bins=bins, label=c.name, histtype=\"step\", linewidth=2, density=True)\n",
    "plt.legend()\n",
    "\n",
    "plt.xlabel(\"Trunk Len [cm] (Exiting)\")\n",
    "\n",
    "plt.ylabel(\"Area Normalized\")\n",
    "plt.tight_layout()\n",
    "plt.axvline([60], linestyle=\":\", color=\"r\", linewidth=2)\n",
    "\n",
    "plt.text(0.6, 0.4, label, transform=plt.gca().transAxes, fontsize=18)\n",
    "\n",
    "if dosave: plt.savefig(savedir +\"trunk_cont_len_M%i.pdf\" % HMASS)"
   ]
  },
  {
   "cell_type": "code",
   "execution_count": null,
   "id": "50c2fcc8",
   "metadata": {},
   "outputs": [],
   "source": [
    "when = SlcInFV(evtdf.slc.vertex) & TrkInFV(evtdf.branch.end)\n",
    "var = evtdf.branch.chi2pid.I2.chi2_muon\n",
    "\n",
    "bins = np.linspace(0, 80, 21)\n",
    "\n",
    "for c in categories:\n",
    "    _ = plt.hist(var[when & c], weights=scale[when & c], bins=bins, label=c.name, histtype=\"step\", density=True, linewidth=2)\n",
    "plt.legend()\n",
    "\n",
    "plt.xlabel(\"Branch Track Col. Plane $\\\\chi^2$ Muon (Contained)\")\n",
    "\n",
    "plt.ylabel(\"Area Normalized\")\n",
    "plt.axvline([40], linestyle=\":\", color=\"r\", linewidth=2)\n",
    "\n",
    "plt.tight_layout()\n",
    "plt.text(0.6, 0.4, label, transform=plt.gca().transAxes, fontsize=18)\n",
    "\n",
    "if dosave: plt.savefig(savedir + \"branch_chi2_muon_M%i.pdf\" % HMASS)"
   ]
  },
  {
   "cell_type": "code",
   "execution_count": null,
   "id": "9bb126ed",
   "metadata": {},
   "outputs": [],
   "source": [
    "when = SlcInFV(evtdf.slc.vertex) & TrkInFV(evtdf.branch.end)\n",
    "var = evtdf.branch.chi2pid.I2.chi2_proton\n",
    "\n",
    "bins = np.linspace(0, 400, 21)\n",
    "\n",
    "for c in categories:\n",
    "    _ = plt.hist(var[when & c], weights=scale[when & c], bins=bins, label=c.name, histtype=\"step\", density=True, linewidth=2)\n",
    "plt.legend()\n",
    "\n",
    "plt.xlabel(\"Branch Track Col. Plane $\\\\chi^2$ Proton (Contained)\")\n",
    "\n",
    "plt.ylabel(\"Area Normalized\")\n",
    "plt.axvline([60], linestyle=\":\", color=\"r\", linewidth=2)\n",
    "\n",
    "plt.tight_layout()\n",
    "plt.text(0.6, 0.4, label, transform=plt.gca().transAxes, fontsize=18)\n",
    "\n",
    "if dosave: plt.savefig(savedir + \"branch_chi2_proton_M%i.pdf\" % HMASS)"
   ]
  },
  {
   "cell_type": "code",
   "execution_count": null,
   "id": "3f8378f9",
   "metadata": {},
   "outputs": [],
   "source": [
    "def is_muon(trk):\n",
    "    return (TrkInFV(trk.end) & (trk.chi2pid.I2.chi2_muon < 40) & (trk.chi2pid.I2.chi2_proton > 80)) | (~TrkInFV(trk.end) & (trk.len > 100.))\n",
    "\n",
    "def is_proton(trk):\n",
    "    return TrkInFV(trk.end) & (trk.chi2pid.I2.chi2_muon > 40) & (trk.chi2pid.I2.chi2_proton < 60)"
   ]
  },
  {
   "cell_type": "code",
   "execution_count": null,
   "id": "89b6992b",
   "metadata": {},
   "outputs": [],
   "source": [
    "muselect = is_muon(evtdf.trunk) & is_muon(evtdf.branch)\n",
    "muselect.name = \"2 Muon Tracks Reconstructed\""
   ]
  },
  {
   "cell_type": "code",
   "execution_count": null,
   "id": "e4b4024c",
   "metadata": {},
   "outputs": [],
   "source": [
    "branch2trunk = magdf(evtdf.trunk.start - evtdf.branch.start)\n",
    "\n",
    "when = SlcInFV(evtdf.slc.vertex) & (branch2trunk < 5) #& topselect & muselect & (branch2trunk > 5)\n",
    "var = evtdf.trunk.med_start_dqdx\n",
    "\n",
    "bins = np.linspace(0, 2500, 21)\n",
    "\n",
    "for c in categories:\n",
    "    _ = plt.hist(var[when & c], weights=scale[when & c], bins=bins, label=c.name, histtype=\"step\", linewidth=2, density=True)\n",
    "plt.legend()\n",
    "plt.axvline([1000], linestyle=\":\", color=\"r\", linewidth=2)\n",
    "\n",
    "plt.text(0.01, 0.8, label, transform=plt.gca().transAxes, fontsize=18)\n",
    "\n",
    "plt.ylabel(\"Area Normalized\")\n",
    "\n",
    "plt.xlabel(\"Trunk dQ/dx [ADDC/cm]\")\n",
    "plt.ticklabel_format(axis='y', style='sci', scilimits=(-1,-4))\n",
    "\n",
    "plt.tight_layout()\n",
    "\n",
    "if dosave: plt.savefig(savedir + \"trunk_med_dqdx_M%i.pdf\" % HMASS)"
   ]
  },
  {
   "cell_type": "code",
   "execution_count": null,
   "id": "b8867056",
   "metadata": {},
   "outputs": [],
   "source": [
    "branch2trunk = magdf(evtdf.trunk.start - evtdf.branch.start)\n",
    "\n",
    "when = SlcInFV(evtdf.slc.vertex) & (branch2trunk > 5) #& topselect & muselect & (branch2trunk > 5)\n",
    "var = evtdf.trunk.med_start_dqdx\n",
    "\n",
    "bins = np.linspace(0, 2500, 21)\n",
    "\n",
    "for c in categories:\n",
    "    _ = plt.hist(var[when & c], weights=scale[when & c], bins=bins, label=c.name, histtype=\"step\", linewidth=2, density=True)\n",
    "plt.legend()\n",
    "plt.axvline([1000], linestyle=\":\", color=\"r\", linewidth=2)\n",
    "\n",
    "plt.text(0.01, 0.8, label, transform=plt.gca().transAxes, fontsize=18)\n",
    "\n",
    "plt.ylabel(\"Area Normalized\")\n",
    "\n",
    "plt.xlabel(\"Trunk dQ/dx [ADDC/cm]\")\n",
    "plt.ticklabel_format(axis='y', style='sci', scilimits=(-1,-4))\n",
    "\n",
    "plt.tight_layout()\n",
    "\n",
    "if dosave: plt.savefig(savedir + \"trunk_med_dqdx_M%i.pdf\" % HMASS)"
   ]
  },
  {
   "cell_type": "code",
   "execution_count": null,
   "id": "57ca6912",
   "metadata": {},
   "outputs": [],
   "source": [
    "var = np.arccos(dot(evtdf.trunk.dir, evtdf.branch.dir)) #* 180 / np.pi\n",
    "when = SlcInFV(evtdf.slc.vertex) #& topselect & muselect\n",
    "\n",
    "bins = np.linspace(0, np.pi, 21)\n",
    "\n",
    "for c in categories:\n",
    "    _ = plt.hist(var[when & c], weights=scale[when & c], bins=bins, label=c.name, histtype=\"step\", linewidth=2, density=True)\n",
    "plt.legend(loc=\"upper right\")\n",
    "\n",
    "plt.axvline([0.6], linestyle=\":\", color=\"r\", linewidth=2)\n",
    "\n",
    "plt.text(0.25, 0.75, label, transform=plt.gca().transAxes, fontsize=18)\n",
    "\n",
    "plt.ylabel(\"Area Normalized\")\n",
    "plt.tight_layout()\n",
    "plt.xlabel(\"Reconstructed Opening Angle\")\n",
    "\n",
    "if dosave: plt.savefig(savedir + \"openangle_M%i.pdf\" % HMASS)"
   ]
  },
  {
   "cell_type": "code",
   "execution_count": null,
   "id": "017ebf32",
   "metadata": {},
   "outputs": [],
   "source": [
    "scalar_dir = unit(evtdf.trunk.dir.multiply(recop(evtdf.trunk), axis=0) + \n",
    "           evtdf.branch.dir.multiply(recop(evtdf.branch), axis=0))\n",
    "BEAMDIR = [0.389019125, -0.0572211871, 0.919450845]\n",
    "\n",
    "beamangle = np.arccos(scalar_dir.x*BEAMDIR[0] + scalar_dir.y*BEAMDIR[1] + scalar_dir.z*BEAMDIR[2])"
   ]
  },
  {
   "cell_type": "code",
   "execution_count": null,
   "id": "a5b763ec",
   "metadata": {},
   "outputs": [],
   "source": [
    "var = beamangle\n",
    "\n",
    "when = SlcInFV(evtdf.slc.vertex) & muselect\n",
    "\n",
    "bins = np.linspace(0, np.pi, 32)\n",
    "\n",
    "for c in categories:\n",
    "    _ = plt.hist(var[when & c], weights=scale[when & c], bins=bins, label=c.name, \n",
    "                 histtype=\"step\", linewidth=2, density=True)\n",
    "plt.legend()\n",
    "plt.axvline([0.3], linestyle=\":\", color=\"r\", linewidth=2)\n",
    "\n",
    "plt.tight_layout()\n",
    "plt.xlabel(\"Reconstructed Scalar Angle to Beam [rad]\")\n",
    "plt.title(\"ICARUS MC\")\n",
    "plt.ylabel(\"Area Normalized\")\n",
    "\n",
    "plt.text(0.625, 0.35, label, transform=plt.gca().transAxes, fontsize=18)\n",
    "\n",
    "plt.tight_layout()\n",
    "if dosave: plt.savefig(savedir + \"scalar_beam_angle_relativenorm_M%i.pdf\" % HMASS)"
   ]
  },
  {
   "cell_type": "code",
   "execution_count": null,
   "id": "9f4b1ef2",
   "metadata": {},
   "outputs": [],
   "source": [
    "var = np.abs((recop(evtdf.trunk) - recop(evtdf.branch)) / (recop(evtdf.trunk) + recop(evtdf.branch)))\n",
    "\n",
    "when = SlcInFV(evtdf.slc.vertex) & muselect\n",
    "\n",
    "bins = np.linspace(0, 1, 21)\n",
    "\n",
    "for c in categories:\n",
    "    _ = plt.hist(var[when & c], weights=scale[when & c], bins=bins, label=c.name, \n",
    "                 histtype=\"step\", linewidth=2, density=True)\n",
    "plt.legend(loc=\"lower left\")\n",
    "# plt.axvline([0.3], linestyle=\":\", color=\"r\", linewidth=2)\n",
    "\n",
    "plt.tight_layout()\n",
    "plt.xlabel(\"Momentum Assymetry\")\n",
    "plt.title(\"ICARUS MC\")\n",
    "plt.ylabel(\"Area Normalized\")\n",
    "\n",
    "plt.text(0.4, 0.05, label, transform=plt.gca().transAxes, fontsize=18)\n",
    "\n",
    "plt.tight_layout()\n",
    "if dosave: plt.savefig(savedir + \"momentum_balance_M%i.pdf\" % HMASS)"
   ]
  },
  {
   "cell_type": "code",
   "execution_count": null,
   "id": "c2db66ac",
   "metadata": {},
   "outputs": [],
   "source": [
    "var = evtdf.stub.l0_5cm.dqdx\n",
    "\n",
    "when = SlcInFV(evtdf.slc.vertex) & muselect # & (~is_higgs | ((evtdf.trunk.truth.p.genE > 0.5) & (evtdf.branch.truth.p.genE > 0.5)))\n",
    "\n",
    "bins = np.linspace(0, 8e5, 21)\n",
    "\n",
    "for c in categories:\n",
    "    _ = plt.hist(var[when & c], weights=scale[when & c], bins=bins, label=c.name, \n",
    "                 histtype=\"step\", linewidth=2, density=True)\n",
    "plt.legend()\n",
    "plt.axvline([5e5], linestyle=\":\", color=\"r\", linewidth=2)\n",
    "\n",
    "#plt.ticklabel_format(axis='y', style='sci', scilimits=(4,4))\n",
    "plt.tight_layout()\n",
    "plt.xlabel(\"Stub dQ/dx [#elec/cm] (len < 0.5cm)\")\n",
    "plt.title(\"ICARUS MC\")\n",
    "plt.ylabel(\"Area Normalized\")\n",
    "\n",
    "plt.text(0.25, 0.05, label, transform=plt.gca().transAxes, fontsize=18)\n",
    "\n",
    "plt.tight_layout()\n",
    "if dosave: plt.savefig(savedir + \"stub_0_5cm_dqdx_M%i.pdf\" % HMASS)"
   ]
  },
  {
   "cell_type": "code",
   "execution_count": null,
   "id": "f868c707",
   "metadata": {},
   "outputs": [],
   "source": [
    "var = evtdf.stub.l1cm.dqdx\n",
    "\n",
    "bins = np.linspace(0, 8e5, 21)\n",
    "\n",
    "for c in categories:\n",
    "    _ = plt.hist(var[when & c], weights=scale[when & c], bins=bins, label=c.name, \n",
    "                 histtype=\"step\", linewidth=2, density=True)\n",
    "plt.legend()\n",
    "plt.axvline([3e5], linestyle=\":\", color=\"r\", linewidth=2)\n",
    "\n",
    "#plt.ticklabel_format(axis='y', style='sci', scilimits=(4,4))\n",
    "plt.tight_layout()\n",
    "plt.xlabel(\"Stub dQ/dx [#elec/cm] (0.5cm < len < 1cm)\")\n",
    "plt.title(\"ICARUS MC\")\n",
    "plt.ylabel(\"Area Normalized\")\n",
    "\n",
    "plt.text(0.625, 0.35, label, transform=plt.gca().transAxes, fontsize=18)\n",
    "\n",
    "plt.tight_layout()\n",
    "if dosave: plt.savefig(savedir + \"stub_0_5cm_1cm_dqdx_M%i.pdf\" % HMASS)"
   ]
  },
  {
   "cell_type": "code",
   "execution_count": null,
   "id": "b6793f38",
   "metadata": {},
   "outputs": [],
   "source": [
    "var = evtdf.stub.l2cm.dqdx\n",
    "\n",
    "bins = np.linspace(0, 8e5, 21)\n",
    "\n",
    "for c in categories:\n",
    "    _ = plt.hist(var[when & c], weights=scale[when & c], bins=bins, label=c.name, \n",
    "                 histtype=\"step\", linewidth=2, density=True)\n",
    "plt.legend()\n",
    "plt.axvline([2.5e5], linestyle=\":\", color=\"r\", linewidth=2)\n",
    "\n",
    "plt.tight_layout()\n",
    "plt.xlabel(\"Stub dQ/dx [#elec/cm] (1cm < len < 2cm)\")\n",
    "plt.title(\"ICARUS MC\")\n",
    "\n",
    "plt.text(0.625, 0.35, label, transform=plt.gca().transAxes, fontsize=18)\n",
    "plt.ylabel(\"Area Normalized\")\n",
    "\n",
    "plt.tight_layout()\n",
    "if dosave: plt.savefig(savedir + \"stub_1cm_2cm_dqdx_M%i.pdf\" % HMASS)"
   ]
  },
  {
   "cell_type": "code",
   "execution_count": null,
   "id": "a12193de",
   "metadata": {},
   "outputs": [],
   "source": [
    "var = evtdf.stub.l3cm.dqdx\n",
    "\n",
    "bins = np.linspace(0, 8e5, 21)\n",
    "\n",
    "for c in categories:\n",
    "    _ = plt.hist(var[when & c], weights=scale[when & c], bins=bins, label=c.name, \n",
    "                 histtype=\"step\", linewidth=2, density=True)\n",
    "plt.legend()\n",
    "plt.axvline([2.5e5], linestyle=\":\", color=\"r\", linewidth=2)\n",
    "\n",
    "plt.tight_layout()\n",
    "plt.xlabel(\"Stub dQ/dx [#elec/cm] (2cm < len < 3cm)\")\n",
    "plt.title(\"ICARUS MC\")\n",
    "plt.ylabel(\"Area Normalized\")\n",
    "\n",
    "plt.text(0.625, 0.35, label, transform=plt.gca().transAxes, fontsize=18)\n",
    "\n",
    "plt.tight_layout()\n",
    "if dosave: plt.savefig(savedir + \"stub_2cm_3cm_dqdx_M%i.pdf\" % HMASS)"
   ]
  },
  {
   "cell_type": "code",
   "execution_count": null,
   "id": "1183e05f",
   "metadata": {},
   "outputs": [],
   "source": [
    "hasstub = (evtdf.stub.l0_5cm.dqdx > 5e5) | (evtdf.stub.l1cm.dqdx > 3e5) | (evtdf.stub.l2cm.dqdx > 2.5e5) | (evtdf.stub.l2cm.dqdx > 1.5e5)"
   ]
  },
  {
   "cell_type": "code",
   "execution_count": null,
   "id": "629be71f",
   "metadata": {},
   "outputs": [],
   "source": [
    "preselect = [\n",
    "    SlcInFV(evtdf.slc.vertex),\n",
    "    TrkInFV(evtdf.trunk.end) == TrkInFV(evtdf.branch.end)\n",
    "]\n",
    "\n",
    "objects = [\n",
    "    np.isnan(evtdf.max_shw_len) #| (evtdf.max_shw_len < 20),\n",
    "]\n",
    "\n",
    "scores = [\n",
    "    # evtdf.slc.fmatch.score < 20,\n",
    "    evtdf.slc.nu_score > 0.4,\n",
    "]\n",
    "\n",
    "muid = [\n",
    "    evtdf.trunk.len > 25,\n",
    "    evtdf.branch.len > 25,\n",
    "    ((~TrkInFV(evtdf.trunk.end) & (evtdf.trunk.len > 50)) |\\\n",
    "     (TrkInFV(evtdf.trunk.end) & (evtdf.trunk.chi2pid.I2.chi2_muon < 20) & (evtdf.trunk.chi2pid.I2.chi2_proton > 60))),\n",
    "    ((~TrkInFV(evtdf.branch.end) & (evtdf.branch.len > 50)) |\\\n",
    "     (TrkInFV(evtdf.branch.end) & (evtdf.branch.chi2pid.I2.chi2_muon < 20) & (evtdf.branch.chi2pid.I2.chi2_proton > 60))),\n",
    "    (evtdf.trunk.med_start_dqdx > 1100) | np.isnan(evtdf.trunk.med_start_dqdx) | (magdf(evtdf.trunk.start - evtdf.branch.start) < 5),    \n",
    "]\n",
    "\n",
    "kinematics = [\n",
    "    np.arccos(dot(evtdf.trunk.dir, evtdf.branch.dir)) < 0.5,\n",
    "    beamangle < 0.2,\n",
    "]\n",
    "\n",
    "stubs = [\n",
    "    ~hasstub,\n",
    "]\n",
    "\n",
    "def cut_all(l):\n",
    "    l0 = l[0]\n",
    "    for c in l[1:]:\n",
    "        l0 = l0 & c\n",
    "    return l0\n",
    "\n",
    "# cuts = preselect + objects + scores + muid + kinematics + stubs\n",
    "cuts = preselect + objects + scores + muid + stubs + kinematics\n",
    "\n",
    "passcut = cut_all(cuts)"
   ]
  },
  {
   "cell_type": "code",
   "execution_count": null,
   "id": "2df675ae",
   "metadata": {},
   "outputs": [],
   "source": [
    "var = evtdf.trunk.trkd.len\n",
    "var[np.isnan(var) | (var < 0)] = -10\n",
    "\n",
    "bins = [-12, -8] + list(np.linspace(0, 100, 26))\n",
    "\n",
    "for c in categories:\n",
    "    _ = plt.hist(var[when & c & passcut], weights=scale[when & c & passcut], bins=bins, label=c.name, \n",
    "                 histtype=\"step\", linewidth=2)\n",
    "plt.legend()\n",
    "plt.yscale(\"log\")\n",
    "\n",
    "plt.tight_layout()\n",
    "plt.xlabel(\"(Trunk) Longest Daughter Track\")\n",
    "plt.title(\"ICARUS MC\")\n",
    "plt.ylabel(\"Area Normalized\")\n",
    "\n",
    "plt.text(0.25, 0.75, label, transform=plt.gca().transAxes, fontsize=18)\n",
    "\n",
    "plt.tight_layout()\n",
    "if dosave: plt.savefig(savedir + \"trunk_longest_daughter_track_M%i.pdf\" % HMASS)"
   ]
  },
  {
   "cell_type": "code",
   "execution_count": null,
   "id": "95442b8f",
   "metadata": {},
   "outputs": [],
   "source": [
    "var = evtdf.branch.trkd.len\n",
    "var[np.isnan(var) | (var < 0)] = -10\n",
    "\n",
    "bins = [-12, -8] + list(np.linspace(0, 100, 26))\n",
    "\n",
    "for c in categories:\n",
    "    _ = plt.hist(var[when & c & passcut], weights=scale[when & c & passcut], bins=bins, label=c.name, \n",
    "                 histtype=\"step\", linewidth=2)\n",
    "plt.legend()\n",
    "plt.yscale(\"log\")\n",
    "\n",
    "plt.tight_layout()\n",
    "plt.xlabel(\"(Branch) Longest Daughter Track\")\n",
    "plt.title(\"ICARUS MC\")\n",
    "plt.ylabel(\"Area Normalized\")\n",
    "\n",
    "plt.text(0.25, 0.75, label, transform=plt.gca().transAxes, fontsize=18)\n",
    "\n",
    "plt.tight_layout()\n",
    "if dosave: plt.savefig(savedir + \"branch_longest_daughter_track_M%i.pdf\" % HMASS)"
   ]
  },
  {
   "cell_type": "code",
   "execution_count": null,
   "id": "27a35fbf",
   "metadata": {},
   "outputs": [],
   "source": [
    "var = dot(evtdf.trunk.dir, evtdf.trunk.trkd.dir)\n",
    "var[np.isnan(var)] = -1.1\n",
    "\n",
    "bins = [-1.1 - 0.025, -1.1 + 0.025] + list(np.linspace(-1, 1, 21))\n",
    "\n",
    "for c in categories:\n",
    "    _ = plt.hist(var[when & c  & passcut], weights=scale[when & c & passcut], bins=bins, label=c.name, \n",
    "                 histtype=\"step\", linewidth=2)\n",
    "plt.legend()\n",
    "plt.yscale(\"log\")\n",
    "\n",
    "plt.tight_layout()\n",
    "plt.xlabel(\"(Trunk) Longest Daughter Track Cos-Angle\")\n",
    "plt.title(\"ICARUS MC\")\n",
    "plt.ylabel(\"Area Normalized\")\n",
    "\n",
    "plt.text(0.25, 0.75, label, transform=plt.gca().transAxes, fontsize=18)\n",
    "\n",
    "plt.tight_layout()\n",
    "if dosave: plt.savefig(savedir + \"trunk_longest_daughter_track_costh_M%i.pdf\" % HMASS)"
   ]
  },
  {
   "cell_type": "code",
   "execution_count": null,
   "id": "f92b6f69",
   "metadata": {},
   "outputs": [],
   "source": [
    "var = dot(evtdf.branch.dir, evtdf.branch.trkd.dir)\n",
    "var[np.isnan(var)] = -1.1\n",
    "\n",
    "bins = [-1.1 - 0.025, -1.1 + 0.025] + list(np.linspace(-1, 1, 21))\n",
    "\n",
    "for c in categories:\n",
    "    _ = plt.hist(var[when & c & passcut], weights=scale[when & c & passcut], bins=bins, label=c.name, \n",
    "                 histtype=\"step\", linewidth=2)\n",
    "plt.legend()\n",
    "plt.yscale(\"log\")\n",
    "\n",
    "plt.tight_layout()\n",
    "plt.xlabel(\"(Branch) Longest Daughter Track Cos-Angle\")\n",
    "plt.title(\"ICARUS MC\")\n",
    "plt.ylabel(\"Area Normalized\")\n",
    "\n",
    "plt.text(0.25, 0.75, label, transform=plt.gca().transAxes, fontsize=18)\n",
    "\n",
    "plt.tight_layout()\n",
    "if dosave: plt.savefig(savedir + \"branch_longest_daughter_track_costh_M%i.pdf\" % HMASS)"
   ]
  },
  {
   "cell_type": "code",
   "execution_count": null,
   "id": "2c11a6d8",
   "metadata": {},
   "outputs": [],
   "source": [
    "piveto = [\n",
    "    np.isnan(evtdf.trunk.trkd.len) | (evtdf.trunk.trkd.len < 25),\n",
    "    np.isnan(evtdf.branch.trkd.len) | (evtdf.branch.trkd.len < 15)\n",
    "]\n",
    "\n",
    "cuts = preselect + objects + scores + muid + kinematics + stubs + piveto\n",
    "\n",
    "\n",
    "cutlist = [preselect + objects, scores, muid, stubs, kinematics]\n",
    "cutlist_names = [\"Pre-Select\", \"Score Cuts\", \"2$\\\\mu$ ID\", \"Stubs\", \"Kinematics\", ]\n",
    "\n",
    "passcut = cut_all(cuts)"
   ]
  },
  {
   "cell_type": "code",
   "execution_count": null,
   "id": "b5d93a8b",
   "metadata": {},
   "outputs": [],
   "source": [
    "MUON_MASS = 0.1057\n",
    "Etrunk = np.sqrt(MUON_MASS**2 + recop(evtdf.trunk)**2)\n",
    "Ebranch = np.sqrt(MUON_MASS**2 + recop(evtdf.branch)**2)\n",
    "\n",
    "s_mass = np.sqrt(2)*np.sqrt(MUON_MASS**2 + Etrunk*Ebranch - recop(evtdf.trunk)*recop(evtdf.branch)*dot(evtdf.branch.dir, evtdf.trunk.dir))"
   ]
  },
  {
   "cell_type": "code",
   "execution_count": null,
   "id": "428e1948",
   "metadata": {},
   "outputs": [],
   "source": []
  },
  {
   "cell_type": "code",
   "execution_count": null,
   "id": "3ff2aa4e",
   "metadata": {},
   "outputs": [],
   "source": [
    "bdt = xgb.XGBRegressor(learning_rate=0.1)"
   ]
  },
  {
   "cell_type": "code",
   "execution_count": null,
   "id": "1847d8c1",
   "metadata": {},
   "outputs": [],
   "source": [
    "xdata = [\n",
    "    evtdf.max_shw_len,\n",
    "    evtdf.slc.fmatch.score,\n",
    "    evtdf.slc.nu_score,\n",
    "    evtdf.trunk.len,\n",
    "    evtdf.branch.len,\n",
    "    TrkInFV(evtdf.trunk.end),\n",
    "    evtdf.trunk.chi2pid.I2.chi2_muon,\n",
    "    evtdf.trunk.chi2pid.I2.chi2_proton,\n",
    "    TrkInFV(evtdf.branch.end),\n",
    "    evtdf.branch.chi2pid.I2.chi2_muon,\n",
    "    evtdf.branch.chi2pid.I2.chi2_proton,\n",
    "    evtdf.trunk.med_start_dqdx,\n",
    "    np.arccos(dot(evtdf.trunk.dir, evtdf.branch.dir)),\n",
    "    beamangle,\n",
    "    evtdf.stub.l0_5cm.dqdx,\n",
    "    evtdf.stub.l1cm.dqdx,\n",
    "    evtdf.stub.l2cm.dqdx,\n",
    "    evtdf.stub.l3cm.dqdx,\n",
    "    evtdf.trunk.trkd.len,\n",
    "    evtdf.branch.trkd.len,\n",
    "    s_mass\n",
    "]\n",
    "\n",
    "labels = [\n",
    "    \"Max Shw Len\",\n",
    "    \"Flash Match Score\",\n",
    "    \"Nu Score\",\n",
    "    \"Trunk Length\",\n",
    "    \"Branch Length\",\n",
    "    \"Trunk Contained\",\n",
    "    \"Trunk chi2 mu\",\n",
    "    \"Trunk chi2 p\",\n",
    "    \"Branch Contained\",\n",
    "    \"Branch chi2 mu\",\n",
    "    \"Branch chi2 p\",\n",
    "    \"Trunk Start dQ/dx\",\n",
    "    \"Open Angle\",\n",
    "    \"Beam Angle\",\n",
    "    \"Stub dQ/dx 0_5cm\",\n",
    "    \"Stub dQ/dx 1cm\",\n",
    "    \"Stub dQ/dx 2cm\",\n",
    "    \"Stub dQ/dx 3cm\",\n",
    "    \"Trunk Daughter Length\",\n",
    "    \"Branch Daughter Length\",\n",
    "    \"Scalar Mass\",\n",
    "]\n",
    "\n",
    "xdata = np.vstack(xdata).T\n",
    "ydata = is_higgs\n",
    "\n",
    "when = SlcInFV(evtdf.slc.vertex)"
   ]
  },
  {
   "cell_type": "code",
   "execution_count": null,
   "id": "7f1f9218",
   "metadata": {},
   "outputs": [],
   "source": [
    "ddf = pd.DataFrame(xdata, columns=labels, index=evtdf.index)"
   ]
  },
  {
   "cell_type": "code",
   "execution_count": null,
   "id": "f3150734",
   "metadata": {},
   "outputs": [],
   "source": []
  },
  {
   "cell_type": "code",
   "execution_count": null,
   "id": "cedee944",
   "metadata": {},
   "outputs": [],
   "source": []
  },
  {
   "cell_type": "code",
   "execution_count": null,
   "id": "b5554347",
   "metadata": {},
   "outputs": [],
   "source": [
    "cutdf = pd.DataFrame(np.stack([cut_all(c).values for c in cutlist]).T, columns=cutlist_names, index=evtdf.index)"
   ]
  },
  {
   "cell_type": "code",
   "execution_count": null,
   "id": "c8d6ef18",
   "metadata": {},
   "outputs": [],
   "source": [
    "scale = evtdf.scale.copy()\n",
    "# scale[is_higgs] = evtdf.scale*1e3"
   ]
  },
  {
   "cell_type": "code",
   "execution_count": null,
   "id": "922aa12c",
   "metadata": {},
   "outputs": [],
   "source": []
  },
  {
   "cell_type": "code",
   "execution_count": null,
   "id": "fd1b641f",
   "metadata": {},
   "outputs": [],
   "source": [
    "plt.figure(figsize=(9, 6))\n",
    "\n",
    "bins = np.linspace(0, 10, 21)\n",
    "\n",
    "when_all = SlcInFV(h_mcdf.position) & (h_mcdf.npi == 0) & (h_mcdf.npi0 == 0)\n",
    "\n",
    "slc_is_reco = SlcInFV(evtdf.slc.vertex) & (evtdf.slc.tmatch.idx == 0) & (evtdf.slc.tmatch.eff > 0.5)\n",
    "# slc_is_select = slc_is_reco & passcut\n",
    "\n",
    "thiscut = True\n",
    "for c, name in zip(cutlist, cutlist_names):\n",
    "    thiscut = cut_all(c) & thiscut\n",
    "    when_cut = when_all & (slc_is_reco & thiscut)[is_higgs].groupby(level=[0, 1]).any()\n",
    "    D, _ = np.histogram(h_mcdf[when_all].E, bins=bins)\n",
    "    N, _ = np.histogram(h_mcdf[when_cut].E, bins=bins)  \n",
    "\n",
    "    centers = (bins[1:] + bins[:-1])/2.\n",
    "\n",
    "    plt.plot(centers, N/D, label=name)\n",
    "plt.legend(bbox_to_anchor=(1.04,1), loc=\"upper left\")\n",
    "\n",
    "plt.xlabel(\"Scalar Energy [GeV]\")\n",
    "plt.ylabel(\"Efficiency\")\n",
    "plt.text(0.65, 0.05, label, transform=plt.gca().transAxes, fontsize=18)\n",
    "\n",
    "plt.tight_layout()\n",
    "if dosave: plt.savefig(savedir + \"scalar_eff_all_M%i.pdf\" % HMASS)"
   ]
  },
  {
   "cell_type": "code",
   "execution_count": null,
   "id": "75f214d4",
   "metadata": {},
   "outputs": [],
   "source": [
    "plt.figure(figsize=(9, 6))\n",
    "\n",
    "bins = np.linspace(0, 10, 21)\n",
    "\n",
    "when_all = SlcInFV(h_mcdf.position) & (h_mcdf.npi == 0) & (h_mcdf.npi0 == 0)\n",
    "\n",
    "slc_is_reco = SlcInFV(evtdf.slc.vertex) & (evtdf.slc.tmatch.idx == 0) & TrkInFV(evtdf.trunk.end) & TrkInFV(evtdf.branch.end)\n",
    "# slc_is_select = slc_is_reco & passcut\n",
    "\n",
    "thiscut = True\n",
    "for c, name in zip(cutlist, cutlist_names):\n",
    "    thiscut = cut_all(c) & thiscut\n",
    "    when_cut = when_all & (slc_is_reco & thiscut)[is_higgs].groupby(level=[0, 1]).any()\n",
    "    D, _ = np.histogram(h_mcdf[when_all].E, bins=bins)\n",
    "    N, _ = np.histogram(h_mcdf[when_cut].E, bins=bins)  \n",
    "\n",
    "    centers = (bins[1:] + bins[:-1])/2.\n",
    "\n",
    "    plt.plot(centers, N/D, label=name)\n",
    "plt.legend(bbox_to_anchor=(1.04,1), loc=\"upper left\")\n",
    "\n",
    "plt.xlabel(\"Scalar Energy [GeV]\")\n",
    "plt.ylabel(\"Efficiency\")\n",
    "plt.text(0.65, 0.05, label, transform=plt.gca().transAxes, fontsize=18)\n",
    "\n",
    "plt.tight_layout()\n",
    "if dosave: plt.savefig(savedir + \"scalar_eff_all_M%i.pdf\" % HMASS)"
   ]
  },
  {
   "cell_type": "code",
   "execution_count": null,
   "id": "b92feb44",
   "metadata": {},
   "outputs": [],
   "source": [
    "h_mcdf"
   ]
  },
  {
   "cell_type": "code",
   "execution_count": null,
   "id": "a3d811ec",
   "metadata": {},
   "outputs": [],
   "source": [
    "evtdf.slc.tmatch[is_nu]"
   ]
  },
  {
   "cell_type": "code",
   "execution_count": null,
   "id": "d7cfb70a",
   "metadata": {},
   "outputs": [],
   "source": [
    "evtdf.slc.truth[is_higgs]"
   ]
  },
  {
   "cell_type": "code",
   "execution_count": null,
   "id": "08c0bede",
   "metadata": {},
   "outputs": [],
   "source": [
    "(evtdf.slc.tmatch.idx == 0)[is_higgs].sum()"
   ]
  },
  {
   "cell_type": "code",
   "execution_count": null,
   "id": "c15a7927",
   "metadata": {},
   "outputs": [],
   "source": [
    "((evtdf.slc.tmatch.idx == 0) & (evtdf.slc.tmatch.eff > 0.5))[is_higgs].groupby(level=[0,1]).any().sum()"
   ]
  },
  {
   "cell_type": "code",
   "execution_count": null,
   "id": "590fe1f2",
   "metadata": {},
   "outputs": [],
   "source": [
    "bins = np.concatenate((np.linspace(0, 4, 16), [5, 6, 8, 10]))\n",
    "\n",
    "when_all = SlcInFV(h_mcdf.position) & (h_mcdf.npi == 0) & (h_mcdf.npi0 == 0)\n",
    "\n",
    "slc_is_reco = cut_all(preselect) & (evtdf.slc.tmatch.idx == 0) & (evtdf.slc.tmatch.eff > 0.5) \n",
    "slc_is_select = slc_is_reco & passcut\n",
    "\n",
    "when_reco = when_all & slc_is_reco[is_higgs].groupby(level=[0, 1]).any()\n",
    "when_select = when_all & slc_is_select[is_higgs].groupby(level=[0, 1]).any()\n",
    "\n",
    "D, _ = np.histogram(h_mcdf[when_all].E, bins=bins)\n",
    "Nreco, _ = np.histogram(h_mcdf[when_reco].E, bins=bins)\n",
    "Nslct, _ = np.histogram(h_mcdf[when_select].E, bins=bins)\n",
    "\n",
    "centers = (bins[1:] + bins[:-1])/2.\n",
    "\n",
    "plt.plot(centers, Nreco/D, label=\"Pre-Selection\")\n",
    "plt.plot(centers, Nslct/D, label=\"Full Selection\")\n",
    "plt.legend(loc=\"upper right\")\n",
    "\n",
    "plt.xlabel(\"Scalar Energy [GeV]\")\n",
    "plt.ylabel(\"Efficiency\")\n",
    "# plt.text(0.25, 0.05, label, transform=plt.gca().transAxes, fontsize=18)\n",
    "plt.text(0.6, 0.5, label, transform=plt.gca().transAxes, fontsize=18)\n",
    "\n",
    "plt.tight_layout()\n",
    "if dosave: plt.savefig(savedir + \"scalar_eff_M%i.pdf\" % HMASS)"
   ]
  },
  {
   "cell_type": "code",
   "execution_count": null,
   "id": "669943ce",
   "metadata": {},
   "outputs": [],
   "source": [
    "bins"
   ]
  },
  {
   "cell_type": "code",
   "execution_count": null,
   "id": "053b0b18",
   "metadata": {},
   "outputs": [],
   "source": [
    "Nslct/D"
   ]
  },
  {
   "cell_type": "code",
   "execution_count": null,
   "id": "595bbba6",
   "metadata": {},
   "outputs": [],
   "source": [
    "width = 0.25\n",
    "plt.figure(figsize=(6.4, 6.4))\n",
    "for i,category in enumerate(categories):\n",
    "    plt.barh(np.arange(len(cutlist)) + i*width, \n",
    "             [np.sum(evtdf.scale[category & cut_all([c for cuts in cutlist[:i+1] for c in cuts])]) for i in range(len(cutlist))], \n",
    "             width, \n",
    "             label=category.name,\n",
    "             tick_label = cutlist_names\n",
    "            )\n",
    "    plt.xscale(\"log\")\n",
    "    plt.legend(ncol=3, bbox_to_anchor=(-0.05, 1.0, 1, 0.2), loc=\"upper left\")\n",
    "    plt.xlabel(\"Scalar Candidates / %s (1yr)\" % POTSTR)\n",
    "plt.xlim([1, plt.xlim()[1]])\n",
    "plt.title(label.replace(\"\\n\", \", \"))\n",
    "plt.tight_layout()\n",
    "if dosave: plt.savefig(savedir + \"cutchart_M%i.pdf\" % HMASS)"
   ]
  },
  {
   "cell_type": "code",
   "execution_count": null,
   "id": "4ed7a79f",
   "metadata": {},
   "outputs": [],
   "source": [
    "var = evtdf.trunk.len\n",
    "\n",
    "when = SlcInFV(evtdf.slc.vertex) & passcut\n",
    "\n",
    "bins = np.linspace(0, 500, 21)\n",
    "\n",
    "for c in categories:\n",
    "    _ = plt.hist(var[when & c], weights=scale[when & c], bins=bins, label=c.name, \n",
    "                 histtype=\"step\", linewidth=2)\n",
    "plt.legend()\n",
    "\n",
    "plt.xlabel(\"Trunk Length [cm]\")\n",
    "plt.title(\"ICARUS MC\")\n",
    "plt.ylabel(\"Candidates / %s\" % POTSTR)\n",
    "\n",
    "plt.text(0.25, 0.6, label, transform=plt.gca().transAxes, fontsize=18)\n",
    "\n",
    "plt.tight_layout()\n",
    "if dosave: plt.savefig(savedir + \"passcut_trunk_length_M%i.pdf\" % HMASS)"
   ]
  },
  {
   "cell_type": "code",
   "execution_count": null,
   "id": "de68761d",
   "metadata": {},
   "outputs": [],
   "source": [
    "var = evtdf.branch.len\n",
    "\n",
    "when = SlcInFV(evtdf.slc.vertex) & passcut\n",
    "\n",
    "bins = np.linspace(0, 500, 21)\n",
    "\n",
    "for c in categories:\n",
    "    _ = plt.hist(var[when & c], weights=scale[when & c], bins=bins, label=c.name, \n",
    "                 histtype=\"step\", linewidth=2)\n",
    "plt.legend()\n",
    "\n",
    "plt.tight_layout()\n",
    "plt.xlabel(\"Branch Length [cm]\")\n",
    "plt.title(\"ICARUS MC\")\n",
    "plt.ylabel(\"Candidates / %s\" % POTSTR)\n",
    "\n",
    "plt.text(0.25, 0.6, label, transform=plt.gca().transAxes, fontsize=18)\n",
    "\n",
    "plt.tight_layout()\n",
    "if dosave: plt.savefig(savedir + \"passcut_branch_length_M%i.pdf\" % HMASS)"
   ]
  },
  {
   "cell_type": "code",
   "execution_count": null,
   "id": "4e0f240a",
   "metadata": {},
   "outputs": [],
   "source": [
    "var = recop(evtdf.trunk)\n",
    "\n",
    "when = SlcInFV(evtdf.slc.vertex) & passcut\n",
    "\n",
    "bins = np.linspace(0, 3, 31)\n",
    "\n",
    "for c in categories:\n",
    "    _ = plt.hist(var[when & c], weights=scale[when & c], bins=bins, label=c.name, \n",
    "                 histtype=\"step\", linewidth=2)\n",
    "plt.legend()\n",
    "\n",
    "plt.tight_layout()\n",
    "plt.xlabel(\"Trunk Momentum [GeV/c]\")\n",
    "plt.title(\"ICARUS MC\")\n",
    "plt.ylabel(\"Candidates / %s\" % POTSTR)\n",
    "\n",
    "plt.text(0.6, 0.325, label, transform=plt.gca().transAxes, fontsize=18)\n",
    "\n",
    "plt.tight_layout()\n",
    "if dosave: plt.savefig(savedir + \"passcut_trunk_momentum_M%i.pdf\" % HMASS)"
   ]
  },
  {
   "cell_type": "code",
   "execution_count": null,
   "id": "9402e86f",
   "metadata": {},
   "outputs": [],
   "source": [
    "var = evtdf.slc.truth.max_proton_ke\n",
    "\n",
    "when = SlcInFV(evtdf.slc.vertex) & passcut\n",
    "\n",
    "bins = np.linspace(0, 0.1, 51)\n",
    "\n",
    "for c in [is_nu]: \n",
    "    _ = plt.hist(var[when & c], weights=scale[when & c], bins=bins, label=c.name, histtype=\"step\", linewidth=2) \n",
    "plt.legend()\n",
    "\n",
    "#plt.ticklabel_format(axis='y', style='sci', scilimits=(4,4)) plt.tight_layout() plt.xlabel(\"Max Proton KE [GeV]\") plt.title(\"ICARUS MC\") plt.ylabel(\"Candidates / 6e20 POT\")\n",
    "\n",
    "plt.tight_layout() \n",
    "if dosave: plt.savefig(savedir + \"passcut_proton_ke.pdf\")\n"
   ]
  },
  {
   "cell_type": "code",
   "execution_count": null,
   "id": "9877dc6c",
   "metadata": {},
   "outputs": [],
   "source": [
    "evtdf.slc.truth.max_proton_ke[SlcInFV(evtdf.slc.vertex) & passcut & is_nu].max()"
   ]
  },
  {
   "cell_type": "code",
   "execution_count": null,
   "id": "6a513fdf",
   "metadata": {},
   "outputs": [],
   "source": [
    "scale[SlcInFV(evtdf.slc.vertex) & passcut & (TrkInFV(evtdf.trunk.end) != TrkInFV(evtdf.branch.end)) & is_higgs].sum()"
   ]
  },
  {
   "cell_type": "code",
   "execution_count": null,
   "id": "32797bd3",
   "metadata": {},
   "outputs": [],
   "source": [
    "evtdf.slc.truth.np"
   ]
  },
  {
   "cell_type": "code",
   "execution_count": null,
   "id": "90237963",
   "metadata": {},
   "outputs": [],
   "source": [
    "var = s_mass\n",
    "\n",
    "when = SlcInFV(evtdf.slc.vertex) & (evtdf.slc.truth.np < 1) & passcut\n",
    "\n",
    "bins = np.linspace(0.2, 0.6, 21)\n",
    "\n",
    "names = [\n",
    "    categories[0].name,\n",
    "    \"$\\\\nu$ no p\",\n",
    "    categories[2].name\n",
    "]\n",
    "\n",
    "for c,n in zip(categories, names):\n",
    "    _ = plt.hist(var[when & c], weights=scale[when & c], bins=bins, label=n, \n",
    "                 histtype=\"step\", linewidth=2)\n",
    "plt.legend()\n",
    "\n",
    "#plt.ticklabel_format(axis='y', style='sci', scilimits=(4,4))\n",
    "plt.tight_layout()\n",
    "plt.xlabel(\"Scalar Mass [GeV/c$^2$]\")\n",
    "plt.ylabel(\"Events / %s\" % POTSTR)\n",
    "plt.title(\"ICARUS MC\")\n",
    "\n",
    "plt.text(0.625, 0.325, label, transform=plt.gca().transAxes, fontsize=18)\n",
    "\n",
    "plt.tight_layout()\n",
    "if dosave: plt.savefig(savedir + \"passcut_smass_nop_M%i.pdf\" % HMASS)"
   ]
  },
  {
   "cell_type": "code",
   "execution_count": null,
   "id": "c6b947cd",
   "metadata": {},
   "outputs": [],
   "source": [
    "when = SlcInFV(evtdf.slc.vertex) & passcut\n",
    "\n",
    "for c in categories:\n",
    "    _ = plt.hist(var[when & c], weights=scale[when & c], bins=bins, label=c.name, \n",
    "                 histtype=\"step\", linewidth=2)\n",
    "plt.legend()\n",
    "\n",
    "#plt.ticklabel_format(axis='y', style='sci', scilimits=(4,4))\n",
    "plt.tight_layout()\n",
    "plt.xlabel(\"$M_{\\\\mu\\\\mu}$ [GeV/c$^2$]\")\n",
    "plt.ylabel(\"Events / %s (1yr)\" % POTSTR)\n",
    "plt.title(\"ICARUS MC\")\n",
    "\n",
    "plt.text(0.625, 0.325, label, transform=plt.gca().transAxes, fontsize=18)\n",
    "\n",
    "plt.tight_layout()\n",
    "if dosave: plt.savefig(savedir + \"passcut_smass_M%i.pdf\" % HMASS)"
   ]
  },
  {
   "cell_type": "code",
   "execution_count": null,
   "id": "6ec27552",
   "metadata": {},
   "outputs": [],
   "source": [
    "when = SlcInFV(evtdf.slc.vertex) & passcut & TrkInFV(evtdf.trunk.end) & TrkInFV(evtdf.branch.end)\n",
    "\n",
    "for c in categories:\n",
    "    _ = plt.hist(var[when & c], weights=scale[when & c], bins=bins, label=c.name, \n",
    "                 histtype=\"step\", linewidth=2)\n",
    "plt.legend()\n",
    "\n",
    "#plt.ticklabel_format(axis='y', style='sci', scilimits=(4,4))\n",
    "plt.tight_layout()\n",
    "plt.xlabel(\"Scalar Mass [GeV/c$^2$]\")\n",
    "plt.ylabel(\"Events / %s\" % POTSTR)\n",
    "plt.title(\"ICARUS MC\")\n",
    "\n",
    "plt.text(0.625, 0.325, label, transform=plt.gca().transAxes, fontsize=18)\n",
    "\n",
    "plt.tight_layout()\n",
    "if dosave: plt.savefig(savedir + \"passcut_smass_M%i_contained.pdf\" % HMASS)"
   ]
  },
  {
   "cell_type": "code",
   "execution_count": null,
   "id": "1e682b81",
   "metadata": {},
   "outputs": [],
   "source": []
  },
  {
   "cell_type": "code",
   "execution_count": null,
   "id": "1f7dd0be",
   "metadata": {},
   "outputs": [],
   "source": [
    "when = SlcInFV(evtdf.slc.vertex) & passcut & (TrkInFV(evtdf.trunk.end) != TrkInFV(evtdf.branch.end))\n",
    "\n",
    "for c in categories:\n",
    "    _ = plt.hist(var[when & c], weights=scale[when & c], bins=bins, label=c.name, \n",
    "                 histtype=\"step\", linewidth=2)\n",
    "plt.legend()\n",
    "\n",
    "#plt.ticklabel_format(axis='y', style='sci', scilimits=(4,4))\n",
    "plt.tight_layout()\n",
    "plt.xlabel(\"Scalar Mass [GeV/c$^2$]\")\n",
    "plt.ylabel(\"Events / %s\" % POTSTR)\n",
    "plt.title(\"ICARUS MC\")\n",
    "\n",
    "plt.text(0.625, 0.325, label, transform=plt.gca().transAxes, fontsize=18)\n",
    "\n",
    "plt.tight_layout()\n",
    "if dosave: plt.savefig(savedir + \"passcut_smass_M%i_semicontained.pdf\" % HMASS)"
   ]
  },
  {
   "cell_type": "code",
   "execution_count": null,
   "id": "a278bc55",
   "metadata": {},
   "outputs": [],
   "source": [
    "when = SlcInFV(evtdf.slc.vertex) & passcut & ~TrkInFV(evtdf.trunk.end) & ~TrkInFV(evtdf.branch.end)\n",
    "\n",
    "for c in categories:\n",
    "    _ = plt.hist(var[when & c], weights=scale[when & c], bins=bins, label=c.name, \n",
    "                 histtype=\"step\", linewidth=2)\n",
    "plt.legend()\n",
    "\n",
    "#plt.ticklabel_format(axis='y', style='sci', scilimits=(4,4))\n",
    "plt.tight_layout()\n",
    "plt.xlabel(\"Scalar Mass [GeV/c$^2$]\")\n",
    "plt.ylabel(\"Events / %s\" % POTSTR)\n",
    "plt.title(\"ICARUS MC\")\n",
    "\n",
    "plt.text(0.625, 0.325, label, transform=plt.gca().transAxes, fontsize=18)\n",
    "\n",
    "plt.tight_layout()\n",
    "if dosave: plt.savefig(savedir + \"passcut_smass_M%i_exiting.pdf\" % HMASS)"
   ]
  },
  {
   "cell_type": "code",
   "execution_count": null,
   "id": "bbb8c35a",
   "metadata": {},
   "outputs": [],
   "source": [
    "even = evtdf.index.get_level_values(0) % 2 == 0\n",
    "\n",
    "train = even\n",
    "test = ~even"
   ]
  },
  {
   "cell_type": "code",
   "execution_count": null,
   "id": "eef8d9b2",
   "metadata": {},
   "outputs": [],
   "source": [
    "# bdt = bdt.fit(xdata[when & train], ydata[when & train], sample_weight=evtdf.scale[when & train])\n",
    "# bdt.get_booster().feature_names = labels"
   ]
  },
  {
   "cell_type": "code",
   "execution_count": null,
   "id": "6f12a08d",
   "metadata": {},
   "outputs": [],
   "source": [
    "# score = bdt.predict(xdata)"
   ]
  },
  {
   "cell_type": "code",
   "execution_count": null,
   "id": "e2e27e8b",
   "metadata": {},
   "outputs": [],
   "source": []
  },
  {
   "cell_type": "code",
   "execution_count": null,
   "id": "81749ea6",
   "metadata": {},
   "outputs": [],
   "source": []
  },
  {
   "cell_type": "code",
   "execution_count": null,
   "id": "0531d19f",
   "metadata": {},
   "outputs": [],
   "source": []
  },
  {
   "cell_type": "code",
   "execution_count": null,
   "id": "38bdc544",
   "metadata": {},
   "outputs": [],
   "source": []
  },
  {
   "cell_type": "code",
   "execution_count": null,
   "id": "7f35c2cf",
   "metadata": {},
   "outputs": [],
   "source": []
  },
  {
   "cell_type": "code",
   "execution_count": null,
   "id": "c6e77c3c",
   "metadata": {},
   "outputs": [],
   "source": [
    "muid = [\n",
    "    evtdf.trunk.len > 25,\n",
    "    evtdf.branch.len > 25,\n",
    "    ((~TrkInFV(evtdf.trunk.end) & (evtdf.trunk.len > 50)) |\\\n",
    "     (TrkInFV(evtdf.trunk.end) & (evtdf.trunk.chi2pid.I2.chi2_muon < 20) & (evtdf.trunk.chi2pid.I2.chi2_proton > 60))),\n",
    "    ((~TrkInFV(evtdf.branch.end) & (evtdf.branch.len > 50)) |\\\n",
    "     (TrkInFV(evtdf.branch.end) & (evtdf.branch.chi2pid.I2.chi2_muon < 20) & (evtdf.branch.chi2pid.I2.chi2_proton > 60))),\n",
    "    (evtdf.trunk.med_start_dqdx > 1100) | np.isnan(evtdf.trunk.med_start_dqdx) | (magdf(evtdf.trunk.start - evtdf.branch.start) < 5),    \n",
    "]"
   ]
  },
  {
   "cell_type": "code",
   "execution_count": null,
   "id": "c9928015",
   "metadata": {},
   "outputs": [],
   "source": [
    "SlcInFV(nu_mcdf.position).sum()"
   ]
  },
  {
   "cell_type": "code",
   "execution_count": null,
   "id": "de1556ba",
   "metadata": {},
   "outputs": [],
   "source": [
    "(1 - evtdf.scale[(SlcInFV(evtdf.slc.truth.position) & is_nu & SlcInFV(evtdf.slc.vertex) & passcut)].sum() / nu_mcdf.scale[SlcInFV(nu_mcdf.position)].sum())*100"
   ]
  },
  {
   "cell_type": "code",
   "execution_count": null,
   "id": "a4d087cd",
   "metadata": {},
   "outputs": [],
   "source": [
    "modes = [0, 1, 2, 3, 10]\n",
    "names = [\"QE\", \"RES\", \"DIS\", \"COH\", \"MEC\"]\n",
    "\n",
    "for m, n in zip(modes, names):\n",
    "    frac = nu_mcdf.scale[(SlcInFV(nu_mcdf.position) & (nu_mcdf.genie_mode == m))].sum() / nu_mcdf.scale[SlcInFV(nu_mcdf.position)].sum()\n",
    "    print(\"%s: %.1f%%\" % (n, frac*100))"
   ]
  },
  {
   "cell_type": "code",
   "execution_count": null,
   "id": "4d3516ca",
   "metadata": {},
   "outputs": [],
   "source": [
    "modes = [0, 10, 1, 2, 3]\n",
    "names = [\"QE\", \"MEC\",\"RES\", \"DIS\", \"COH\"]\n",
    "\n",
    "for m, n in zip(modes, names):\n",
    "    frac = evtdf.scale[(SlcInFV(evtdf.slc.vertex) & is_nu & passcut & (evtdf.slc.truth.genie_mode == m))].sum() / evtdf.scale[(SlcInFV(evtdf.slc.vertex) & is_nu & passcut)].sum()\n",
    "    print(\"%s: %.1f%%\" % (n, frac*100))"
   ]
  },
  {
   "cell_type": "code",
   "execution_count": null,
   "id": "2c2e7f64",
   "metadata": {},
   "outputs": [],
   "source": [
    "nu_mcdf.scale[(SlcInFV(nu_mcdf.position) & (nu_mcdf.pdg == -14))].sum() / nu_mcdf.scale[SlcInFV(nu_mcdf.position)].sum()"
   ]
  },
  {
   "cell_type": "code",
   "execution_count": null,
   "id": "2e5a7eea",
   "metadata": {},
   "outputs": [],
   "source": [
    "evtdf.scale[(SlcInFV(evtdf.slc.vertex) & is_nu & passcut & (evtdf.slc.truth.pdg == -14))].sum() / evtdf.scale[(SlcInFV(evtdf.slc.vertex) & is_nu & passcut)].sum()"
   ]
  },
  {
   "cell_type": "code",
   "execution_count": null,
   "id": "e7e6f468",
   "metadata": {},
   "outputs": [],
   "source": [
    "nu_mcdf.scale[(SlcInFV(nu_mcdf.position) & (nu_mcdf.np == 0))].sum() / nu_mcdf.scale[SlcInFV(nu_mcdf.position)].sum()"
   ]
  },
  {
   "cell_type": "code",
   "execution_count": null,
   "id": "c99c9461",
   "metadata": {},
   "outputs": [],
   "source": [
    "evtdf.scale[(SlcInFV(evtdf.slc.vertex) & is_nu & passcut & (evtdf.slc.truth.np == 0))].sum() / evtdf.scale[(SlcInFV(evtdf.slc.vertex) & is_nu & passcut)].sum()"
   ]
  },
  {
   "cell_type": "code",
   "execution_count": null,
   "id": "e0a2e2b7",
   "metadata": {},
   "outputs": [],
   "source": [
    "var = evtdf.slc.truth.E\n",
    "\n",
    "when = SlcInFV(evtdf.slc.vertex) & passcut\n",
    "\n",
    "bins = np.linspace(0, 15, 31)\n",
    "\n",
    "# for c in nucategories:\n",
    "_ = plt.hist([var[when & (evtdf.slc.truth.genie_mode == m)] for m in modes], \n",
    "             weights=[scale[when & (evtdf.slc.truth.genie_mode == m)] for m in modes], bins=bins, \n",
    "             label=names, \n",
    "                 stacked=True, linewidth=2)\n",
    "plt.legend()\n",
    "\n",
    "#plt.ticklabel_format(axis='y', style='sci', scilimits=(4,4))\n",
    "plt.tight_layout()\n",
    "plt.xlabel(\"Neutrino Energy [GeV]\")\n",
    "plt.title(\"ICARUS MC\")\n",
    "plt.ylabel(\"Candidates / %s\" % POTSTR)\n",
    "\n",
    "plt.tight_layout()\n",
    "if dosave: plt.savefig(savedir + \"passcut_nue_intmodes.pdf\")"
   ]
  },
  {
   "cell_type": "code",
   "execution_count": null,
   "id": "57ea0510",
   "metadata": {},
   "outputs": [],
   "source": [
    "var = evtdf.slc.truth.lmom\n",
    "\n",
    "when = SlcInFV(evtdf.slc.vertex) & passcut\n",
    "\n",
    "bins = np.linspace(0, 7, 8)\n",
    "\n",
    "# for c in nucategories:\n",
    "_ = plt.hist([var[when & (evtdf.slc.truth.genie_mode == m)] for m in modes], \n",
    "             weights=[scale[when & (evtdf.slc.truth.genie_mode == m)] for m in modes], bins=bins, \n",
    "             label=names, \n",
    "                 stacked=True, linewidth=2)\n",
    "plt.legend(ncol=1)\n",
    "\n",
    "#plt.ticklabel_format(axis='y', style='sci', scilimits=(4,4))\n",
    "plt.tight_layout()\n",
    "plt.xlabel(\"Muon Momentum [GeV]\")\n",
    "plt.title(\"ICARUS MC\")\n",
    "plt.ylabel(\"Candidates / %s\" % POTSTR)\n",
    "\n",
    "plt.tight_layout()\n",
    "if dosave: plt.savefig(savedir + \"passcut_lmom_intmodes.pdf\")"
   ]
  },
  {
   "cell_type": "code",
   "execution_count": null,
   "id": "2f15a734",
   "metadata": {},
   "outputs": [],
   "source": [
    "var = evtdf.slc.truth.E\n",
    "\n",
    "when = SlcInFV(evtdf.slc.vertex) & passcut\n",
    "\n",
    "bins = np.linspace(0, 15, 31)\n",
    "\n",
    "_ = plt.hist([var[when & c] for c in nucategories], \n",
    "             weights=[scale[when & c] for c in nucategories], bins=bins, \n",
    "             label=[c.name for c in nucategories], \n",
    "                 stacked=True, linewidth=2)\n",
    "plt.legend()\n",
    "\n",
    "#plt.ticklabel_format(axis='y', style='sci', scilimits=(4,4))\n",
    "plt.tight_layout()\n",
    "plt.xlabel(\"Neutrino Energy [GeV]\")\n",
    "plt.title(\"ICARUS MC\")\n",
    "plt.ylabel(\"Candidates / %s\" % POTSTR)\n",
    "\n",
    "plt.tight_layout()\n",
    "if dosave: plt.savefig(savedir + \"passcut_nue_categories.pdf\")"
   ]
  },
  {
   "cell_type": "code",
   "execution_count": null,
   "id": "de8eb495",
   "metadata": {},
   "outputs": [],
   "source": [
    "var = evtdf.slc.truth.lmom\n",
    "\n",
    "when = SlcInFV(evtdf.slc.vertex) & passcut\n",
    "\n",
    "bins = np.linspace(0, 10, 21)\n",
    "\n",
    "_ = plt.hist([var[when & c] for c in nucategories], \n",
    "             weights=[scale[when & c] for c in nucategories], bins=bins, \n",
    "             label=[c.name for c in nucategories], \n",
    "                 stacked=True, linewidth=2)\n",
    "plt.legend()\n",
    "\n",
    "#plt.ticklabel_format(axis='y', style='sci', scilimits=(4,4))\n",
    "plt.tight_layout()\n",
    "plt.xlabel(\"Neutrino Energy [GeV]\")\n",
    "plt.title(\"ICARUS MC\")\n",
    "plt.ylabel(\"Candidates / %s\" % POTSTR)\n",
    "\n",
    "plt.tight_layout()\n",
    "if dosave: plt.savefig(savedir + \"passcut_lmom_categories.pdf\")"
   ]
  },
  {
   "cell_type": "code",
   "execution_count": null,
   "id": "9c4c17c4",
   "metadata": {},
   "outputs": [],
   "source": []
  },
  {
   "cell_type": "code",
   "execution_count": null,
   "id": "170e8035",
   "metadata": {},
   "outputs": [],
   "source": [
    "(SlcInFV(nu_mcdf.position) & (nu_mcdf.max_proton_ke < 0.0001)).sum() / SlcInFV(nu_mcdf.position).sum()"
   ]
  },
  {
   "cell_type": "code",
   "execution_count": null,
   "id": "0d230053",
   "metadata": {},
   "outputs": [],
   "source": [
    "(when & is_nu & (evtdf.slc.truth.max_proton_ke < 0.005)).sum(), (when & is_nu & (evtdf.slc.truth.max_proton_ke > 0.005)).sum()"
   ]
  },
  {
   "cell_type": "code",
   "execution_count": null,
   "id": "0d869041",
   "metadata": {},
   "outputs": [],
   "source": [
    "np.sum(scale[when & is_nu & (evtdf.slc.truth.max_proton_ke > 0.005)]), np.sum(scale[when & is_nu & (evtdf.slc.truth.max_proton_ke < 0.005)])"
   ]
  },
  {
   "cell_type": "code",
   "execution_count": null,
   "id": "5ad6e542",
   "metadata": {},
   "outputs": [],
   "source": [
    "when = SlcInFV(evtdf.slc.vertex) &  evtdf.third_trk_contained\n",
    "var = evtdf.third_trk_chi2_proton\n",
    "\n",
    "bins = np.linspace(0, 400, 21)\n",
    "\n",
    "for c in categories:\n",
    "    _ = plt.hist(var[when & c], weights=scale[when & c], bins=bins, label=c.name, histtype=\"step\", density=True, linewidth=2)\n",
    "plt.legend()\n",
    "\n",
    "plt.xlabel(\"Branch Track Col. Plane $\\\\chi^2$ Proton (Contained)\")\n",
    "\n",
    "plt.ylabel(\"Area Normalized\")\n",
    "plt.axvline([60], linestyle=\":\", color=\"r\", linewidth=2)\n",
    "\n",
    "plt.tight_layout()\n",
    "plt.text(0.6, 0.4, label, transform=plt.gca().transAxes, fontsize=18)\n",
    "\n",
    "if dosave: plt.savefig(savedir + \"thirdtrk_chi2_proton_M%i.pdf\" % HMASS)"
   ]
  },
  {
   "cell_type": "code",
   "execution_count": null,
   "id": "526e4066",
   "metadata": {},
   "outputs": [],
   "source": [
    "when = SlcInFV(evtdf.slc.vertex) & evtdf.third_trk_contained\n",
    "var = evtdf.third_trk_chi2_muon\n",
    "\n",
    "bins = np.linspace(0, 80, 21)\n",
    "\n",
    "for c in categories:\n",
    "    _ = plt.hist(var[when & c], weights=scale[when & c], bins=bins, label=c.name, histtype=\"step\", density=True, linewidth=2)\n",
    "plt.legend()\n",
    "\n",
    "plt.xlabel(\"Branch Track Col. Plane $\\\\chi^2$ Muon (Contained)\")\n",
    "\n",
    "plt.ylabel(\"Area Normalized\")\n",
    "plt.axvline([40], linestyle=\":\", color=\"r\", linewidth=2)\n",
    "\n",
    "plt.tight_layout()\n",
    "plt.text(0.6, 0.4, label, transform=plt.gca().transAxes, fontsize=18)\n",
    "\n",
    "if dosave: plt.savefig(savedir + \"thirdtrk_chi2_proton_M%i.pdf\" % HMASS)"
   ]
  },
  {
   "cell_type": "code",
   "execution_count": null,
   "id": "a27e0b6e",
   "metadata": {},
   "outputs": [],
   "source": [
    "trunk_dist = magdf(evtdf.trunk.start - evtdf.slc.vertex)\n",
    "branch_dist = magdf(evtdf.branch.start - evtdf.slc.vertex)"
   ]
  },
  {
   "cell_type": "code",
   "execution_count": null,
   "id": "47a6caa5",
   "metadata": {},
   "outputs": [],
   "source": [
    "third_trk_is_proton = (evtdf.third_trk_chi2_muon > 40) & (evtdf.third_trk_chi2_proton < 60) & evtdf.third_trk_contained\n",
    "\n",
    "sidebandcut = (third_trk_is_proton | is_proton(evtdf.trunk) | is_proton(evtdf.branch)) &\\\n",
    "    (trunk_dist < 10) & (branch_dist < 10) & (evtdf.third_trk_dist < 10)\n",
    "\n",
    "# sidebandcut = third_trk_is_proton & (trunk_dist < 10) & (branch_dist < 10) & (evtdf.third_trk_dist < 10)"
   ]
  },
  {
   "cell_type": "code",
   "execution_count": null,
   "id": "5263fa67",
   "metadata": {},
   "outputs": [],
   "source": [
    "\n",
    "# plt.figure(figsize=(9, 6))\n",
    "\n",
    "bins = np.linspace(0, 3, 31)\n",
    "\n",
    "when_all = SlcInFV(h_mcdf.position) & (h_mcdf.npi == 0) & (h_mcdf.npi0 == 0)\n",
    "\n",
    "slc_is_reco = SlcInFV(evtdf.slc.vertex) & (evtdf.slc.tmatch.idx == 0) & (evtdf.slc.tmatch.eff > 0.5)\n",
    "# slc_is_select = slc_is_reco & passcut\n",
    "\n",
    "thiscut = sidebandcut\n",
    "when_cut = when_all & (slc_is_reco & thiscut)[is_higgs].groupby(level=[0, 1]).any()\n",
    "D, _ = np.histogram(h_mcdf[when_all].E, bins=bins)\n",
    "N, _ = np.histogram(h_mcdf[when_cut].E, bins=bins)  \n",
    "\n",
    "\n",
    "centers = (bins[1:] + bins[:-1])/2.\n",
    "\n",
    "plt.plot(centers, N/D, label=\"Scalar Eff\")\n",
    "plt.legend()\n",
    "\n",
    "plt.xlabel(\"Scalar Energy [GeV]\")\n",
    "plt.ylabel(\"Efficiency\")\n",
    "plt.text(0.6, 0.05, label, transform=plt.gca().transAxes, fontsize=18)\n",
    "\n",
    "plt.tight_layout()\n",
    "plt.ylim([0, 0.1])\n",
    "if dosave: plt.savefig(savedir + \"scalar_eff_3trk_sideband_M%i.pdf\" % HMASS)"
   ]
  },
  {
   "cell_type": "code",
   "execution_count": null,
   "id": "470f8cb2",
   "metadata": {},
   "outputs": [],
   "source": [
    "# plt.figure(figsize=(9, 6))\n",
    "\n",
    "bins = np.linspace(0, 5, 31)\n",
    "\n",
    "when_all = SlcInFV(nu_mcdf.position)\n",
    "\n",
    "slc_is_reco = SlcInFV(evtdf.slc.vertex) & (evtdf.slc.tmatch.idx >= 0) & (evtdf.slc.tmatch.eff > 0.5) &\\\n",
    "    SlcInFV(evtdf.slc.truth.position)\n",
    "# slc_is_select = slc_is_reco & passcut\n",
    "\n",
    "when_cut = slc_is_reco & sidebandcut\n",
    "# when_cut = when_all & (slc_is_reco & thiscut)[is_nu].groupby(level=0).any()\n",
    "D, _ = np.histogram(nu_mcdf[when_all].E, bins=bins)\n",
    "N, _ = np.histogram(evtdf.slc.truth.E[when_cut], bins=bins)  \n",
    "\n",
    "\n",
    "centers = (bins[1:] + bins[:-1])/2.\n",
    "\n",
    "plt.plot(centers, N/D, label=\"Neutrino Eff\")\n",
    "# plt.legend()\n",
    "\n",
    "plt.xlabel(\"Neutrino Energy [GeV]\")\n",
    "plt.ylabel(\"Efficiency\")\n",
    "\n",
    "plt.tight_layout()\n",
    "# plt.ylim([0, 0.1])\n",
    "plt.text(0.6, 0.05, \"Total Eff: %.1f%%\" % (100*np.sum(N) / np.sum(D)), transform=plt.gca().transAxes, fontsize=18)\n",
    "if dosave: plt.savefig(savedir + \"nu_eff_3trk_sideband.pdf\")"
   ]
  },
  {
   "cell_type": "code",
   "execution_count": null,
   "id": "b621a102",
   "metadata": {},
   "outputs": [],
   "source": [
    "var = evtdf.slc.truth.E\n",
    "\n",
    "bins = np.linspace(0, 10, 21)\n",
    "\n",
    "\n",
    "# for c in nucategories:\n",
    "_ = plt.hist([var[when_cut & (evtdf.slc.truth.genie_mode == m) & evt_numu_cc] for m in modes], \n",
    "             weights=[scale[when_cut & (evtdf.slc.truth.genie_mode == m) & evt_numu_cc] for m in modes], bins=bins, \n",
    "             label=names, \n",
    "                 stacked=True, linewidth=2)\n",
    "plt.legend()\n",
    "\n",
    "#plt.ticklabel_format(axis='y', style='sci', scilimits=(4,4))\n",
    "plt.tight_layout()\n",
    "plt.xlabel(\"Neutrino Energy [GeV]\")\n",
    "plt.title(\"ICARUS MC\")\n",
    "plt.ylabel(\"Candidates / %s\" % POTSTR)\n",
    "\n",
    "plt.tight_layout()\n",
    "if dosave: plt.savefig(savedir + \"pass_3trk_sideband_nue.pdf\")"
   ]
  },
  {
   "cell_type": "code",
   "execution_count": null,
   "id": "95f18abc",
   "metadata": {},
   "outputs": [],
   "source": [
    "var = evtdf.slc.truth.lmom\n",
    "\n",
    "bins = np.linspace(0, 6, 19)\n",
    "\n",
    "# for c in nucategories:\n",
    "_ = plt.hist([var[when_cut & (evtdf.slc.truth.genie_mode == m) & evt_numu_cc] for m in modes], \n",
    "             weights=[scale[when_cut & (evtdf.slc.truth.genie_mode == m) & evt_numu_cc] for m in modes], bins=bins, \n",
    "             label=names, \n",
    "                 stacked=True, linewidth=2)\n",
    "plt.legend()\n",
    "\n",
    "#plt.ticklabel_format(axis='y', style='sci', scilimits=(4,4))\n",
    "plt.tight_layout()\n",
    "plt.xlabel(\"Muon Momentum [GeV]\")\n",
    "plt.title(\"ICARUS MC\")\n",
    "plt.ylabel(\"Candidates / %s\" % POTSTR)\n",
    "\n",
    "plt.tight_layout()\n",
    "if dosave: plt.savefig(savedir + \"pass_3trk_sideband_lmom.pdf\")"
   ]
  },
  {
   "cell_type": "code",
   "execution_count": null,
   "id": "baf5260c",
   "metadata": {},
   "outputs": [],
   "source": [
    "var = np.maximum(evtdf.trunk.len, evtdf.branch.len)\n",
    "\n",
    "when = SlcInFV(evtdf.slc.vertex) & ~np.isnan(evtdf.slc.nu_score)\n",
    "\n",
    "bins = np.linspace(0, 400, 21)\n",
    "\n",
    "# for c in nucategories:\n",
    "_ = plt.hist([var[sidebandcut & c] for c in [is_cosmic] + nucategories], \n",
    "             weights=[scale[sidebandcut & c] for c in [is_cosmic] + nucategories], bins=bins, \n",
    "             label=[c.name for c in [is_cosmic] + nucategories], \n",
    "                 stacked=True, linewidth=2)\n",
    "plt.legend()\n",
    "\n",
    "#plt.ticklabel_format(axis='y', style='sci', scilimits=(4,4))\n",
    "plt.tight_layout()\n",
    "plt.xlabel(\"Maximum Track Length [cm]\")\n",
    "plt.title(\"ICARUS MC\")\n",
    "plt.ylabel(\"Candidates / %s\" % POTSTR)\n",
    "\n",
    "plt.tight_layout()\n",
    "if dosave: plt.savefig(savedir + \"sideband_trklen.pdf\")"
   ]
  },
  {
   "cell_type": "code",
   "execution_count": null,
   "id": "e8b09e99",
   "metadata": {},
   "outputs": [],
   "source": [
    "var = evtdf.slc.truth.E\n",
    "\n",
    "bins = np.linspace(0, 10, 21)\n",
    "\n",
    "# for c in nucategories:\n",
    "_ = plt.hist([var[when_cut & c] for c in nucategories], \n",
    "             weights=[scale[when_cut & c] for c in nucategories], bins=bins, \n",
    "             label=[c.name for c in nucategories], \n",
    "                 stacked=True, linewidth=2)\n",
    "plt.legend()\n",
    "\n",
    "#plt.ticklabel_format(axis='y', style='sci', scilimits=(4,4))\n",
    "plt.tight_layout()\n",
    "plt.xlabel(\"Neutrino Energy [GeV]\")\n",
    "plt.title(\"ICARUS MC\")\n",
    "plt.ylabel(\"Candidates / %s\" % POTSTR)\n",
    "\n",
    "plt.tight_layout()\n",
    "if dosave: plt.savefig(savedir + \"pass_3trk_sideband_nue_categories.pdf\")"
   ]
  },
  {
   "cell_type": "code",
   "execution_count": null,
   "id": "7cc5b53e",
   "metadata": {},
   "outputs": [],
   "source": [
    "var = evtdf.slc.truth.lmom\n",
    "\n",
    "bins = np.linspace(0, 6, 19)\n",
    "\n",
    "# for c in nucategories:\n",
    "_ = plt.hist([var[when_cut & c] for c in nucategories], \n",
    "             weights=[scale[when_cut & c] for c in nucategories], bins=bins, \n",
    "             label=[c.name for c in nucategories], \n",
    "                 stacked=True, linewidth=2)\n",
    "plt.legend()\n",
    "\n",
    "#plt.ticklabel_format(axis='y', style='sci', scilimits=(4,4))\n",
    "plt.tight_layout()\n",
    "plt.xlabel(\"Muon Momentum [GeV]\")\n",
    "plt.title(\"ICARUS MC\")\n",
    "plt.ylabel(\"Candidates / %s\" % POTSTR)\n",
    "\n",
    "plt.tight_layout()\n",
    "if dosave: plt.savefig(savedir + \"pass_3trk_sideband_lmom_categories.pdf\")"
   ]
  },
  {
   "cell_type": "code",
   "execution_count": null,
   "id": "cbf31e00",
   "metadata": {},
   "outputs": [],
   "source": []
  },
  {
   "cell_type": "code",
   "execution_count": null,
   "id": "94e528d1",
   "metadata": {},
   "outputs": [],
   "source": []
  },
  {
   "cell_type": "code",
   "execution_count": null,
   "id": "fb0b4bf5",
   "metadata": {},
   "outputs": [],
   "source": []
  },
  {
   "cell_type": "code",
   "execution_count": null,
   "id": "18ed9973",
   "metadata": {},
   "outputs": [],
   "source": []
  },
  {
   "cell_type": "code",
   "execution_count": null,
   "id": "feacbc4e",
   "metadata": {},
   "outputs": [],
   "source": []
  },
  {
   "cell_type": "code",
   "execution_count": null,
   "id": "84599465",
   "metadata": {},
   "outputs": [],
   "source": []
  },
  {
   "cell_type": "code",
   "execution_count": null,
   "id": "b20b843e",
   "metadata": {},
   "outputs": [],
   "source": []
  },
  {
   "cell_type": "code",
   "execution_count": null,
   "id": "f50b04f0",
   "metadata": {},
   "outputs": [],
   "source": []
  },
  {
   "cell_type": "code",
   "execution_count": null,
   "id": "971af4d3",
   "metadata": {},
   "outputs": [],
   "source": []
  },
  {
   "cell_type": "code",
   "execution_count": null,
   "id": "75e05198",
   "metadata": {},
   "outputs": [],
   "source": []
  }
 ],
 "metadata": {
  "kernelspec": {
   "display_name": "Python 3 (ipykernel)",
   "language": "python",
   "name": "python3"
  },
  "language_info": {
   "codemirror_mode": {
    "name": "ipython",
    "version": 3
   },
   "file_extension": ".py",
   "mimetype": "text/x-python",
   "name": "python",
   "nbconvert_exporter": "python",
   "pygments_lexer": "ipython3",
   "version": "3.9.2"
  }
 },
 "nbformat": 4,
 "nbformat_minor": 5
}
