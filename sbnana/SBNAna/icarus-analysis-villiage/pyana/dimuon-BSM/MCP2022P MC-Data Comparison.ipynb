{
 "cells": [
  {
   "cell_type": "code",
   "execution_count": null,
   "id": "dfd84337",
   "metadata": {},
   "outputs": [],
   "source": [
    "%load_ext autoreload\n",
    "%autoreload 2\n",
    "\n",
    "import uproot\n",
    "import matplotlib as mpl\n",
    "import matplotlib.pyplot as plt\n",
    "import matplotlib.colors as colors\n",
    "import matplotlib.cbook as cbook\n",
    "import numpy as np\n",
    "import pandas as pd\n",
    "from decimal import Decimal\n",
    "from scipy.stats import norm\n",
    "from scipy.optimize import curve_fit\n",
    "from scipy import stats\n",
    "import warnings\n",
    "import datetime as dt\n",
    "from scipy.interpolate import CubicSpline\n",
    "from matplotlib import gridspec\n",
    "\n",
    "import importlib\n",
    "import sklearn\n",
    "\n",
    "import xgboost as xgb\n",
    "\n",
    "# local imports\n",
    "from panda_helpers import *\n",
    "\n",
    "from makedf import *"
   ]
  },
  {
   "cell_type": "code",
   "execution_count": null,
   "id": "9c9beb35",
   "metadata": {},
   "outputs": [],
   "source": [
    "plt.rcParams.update({'font.size': 16})\n",
    "mpl.rcParams['lines.linewidth'] = 4.\n",
    "\n",
    "dosave = False\n",
    "savedir = \"/icarus/app/users/gputnam/evtsel-ana/plots_Aug31/\""
   ]
  },
  {
   "cell_type": "code",
   "execution_count": null,
   "id": "a924e138",
   "metadata": {},
   "outputs": [],
   "source": [
    "fnu = \"/icarus/data/users/gputnam/MCP2022GB/nu/nuall_old.df\""
   ]
  },
  {
   "cell_type": "code",
   "execution_count": null,
   "id": "0de06922",
   "metadata": {},
   "outputs": [],
   "source": [
    "nu_evtdf = pd.read_hdf(fnu, key=\"evtdf\")"
   ]
  },
  {
   "cell_type": "code",
   "execution_count": null,
   "id": "e45784b6",
   "metadata": {},
   "outputs": [],
   "source": [
    "nu_evtdf"
   ]
  },
  {
   "cell_type": "code",
   "execution_count": null,
   "id": "e550c40f",
   "metadata": {},
   "outputs": [],
   "source": [
    "nu_hdr = pd.read_hdf(fnu, key=\"hdr\")"
   ]
  },
  {
   "cell_type": "code",
   "execution_count": null,
   "id": "e5d6c334",
   "metadata": {},
   "outputs": [],
   "source": [
    "nu_hdr"
   ]
  },
  {
   "cell_type": "code",
   "execution_count": null,
   "id": "fcb27edf",
   "metadata": {},
   "outputs": [],
   "source": [
    "fic = \"/icarus/data/users/gputnam/MCP2022GB/cosmic/intc_5000_old.df\""
   ]
  },
  {
   "cell_type": "code",
   "execution_count": null,
   "id": "e2f62f6a",
   "metadata": {},
   "outputs": [],
   "source": [
    "ic_evtdf = pd.read_hdf(fic, key=\"evtdf\")"
   ]
  },
  {
   "cell_type": "code",
   "execution_count": null,
   "id": "5cd9cc9a",
   "metadata": {},
   "outputs": [],
   "source": [
    "ic_evtdf"
   ]
  },
  {
   "cell_type": "code",
   "execution_count": null,
   "id": "5daabf73",
   "metadata": {},
   "outputs": [],
   "source": [
    "ic_hdr = pd.read_hdf(fic, key=\"hdr\")"
   ]
  },
  {
   "cell_type": "code",
   "execution_count": null,
   "id": "584014ee",
   "metadata": {},
   "outputs": [],
   "source": [
    "ic_hdr"
   ]
  },
  {
   "cell_type": "code",
   "execution_count": null,
   "id": "1fc8eee0",
   "metadata": {},
   "outputs": [],
   "source": [
    "fdata = \"/icarus/data/users/gputnam/MCP2022P/numi-commissioining-runs/prescaled_old.df\""
   ]
  },
  {
   "cell_type": "code",
   "execution_count": null,
   "id": "20d7d559",
   "metadata": {},
   "outputs": [],
   "source": [
    "data_evtdf = pd.read_hdf(fdata, key=\"evtdf\")"
   ]
  },
  {
   "cell_type": "code",
   "execution_count": null,
   "id": "cfc21b88",
   "metadata": {},
   "outputs": [],
   "source": [
    "data_evtdf"
   ]
  },
  {
   "cell_type": "code",
   "execution_count": null,
   "id": "c2c4f967",
   "metadata": {},
   "outputs": [],
   "source": [
    "data_hdr = pd.read_hdf(fdata, key=\"hdr\")"
   ]
  },
  {
   "cell_type": "code",
   "execution_count": null,
   "id": "47f0702b",
   "metadata": {},
   "outputs": [],
   "source": [
    "data_hdr"
   ]
  },
  {
   "cell_type": "code",
   "execution_count": null,
   "id": "b0c0bbb8",
   "metadata": {},
   "outputs": [],
   "source": [
    "def sample_concat(dfA, dfB, offset=1_000_000):\n",
    "    dfB = dfB.copy()\n",
    "    # dfB.index = dfB.index.set_levels(dfB.index.levels[0] + dfA.index.max()[0] + 1, level=0)\n",
    "    dfB.index = dfB.index.set_levels(dfB.index.levels[0] + offset, level=0)\n",
    "    return dfA.append(dfB)"
   ]
  },
  {
   "cell_type": "code",
   "execution_count": null,
   "id": "84bb3569",
   "metadata": {},
   "outputs": [],
   "source": [
    "nu_pot = np.sum(nu_hdr.pot * nu_hdr.first_in_subrun)"
   ]
  },
  {
   "cell_type": "code",
   "execution_count": null,
   "id": "11604968",
   "metadata": {},
   "outputs": [],
   "source": [
    "nu_evt_per_spill = np.sum(nu_hdr.ngenevt*nu_hdr.first_in_subrun) / (np.sum(nu_hdr.pot*nu_hdr.first_in_subrun) / 6e13)\n",
    "ic_pot = np.sum(ic_hdr.ngenevt * ic_hdr.first_in_subrun * 6e13) / (1 - nu_evt_per_spill)"
   ]
  },
  {
   "cell_type": "code",
   "execution_count": null,
   "id": "6b5f9640",
   "metadata": {},
   "outputs": [],
   "source": [
    "data_pot = np.sum(data_hdr.pot)"
   ]
  },
  {
   "cell_type": "code",
   "execution_count": null,
   "id": "cdd30b07",
   "metadata": {},
   "outputs": [],
   "source": [
    "data_pot"
   ]
  },
  {
   "cell_type": "code",
   "execution_count": null,
   "id": "19bd8263",
   "metadata": {},
   "outputs": [],
   "source": [
    "nu_evt_per_spill"
   ]
  },
  {
   "cell_type": "code",
   "execution_count": null,
   "id": "13cb876b",
   "metadata": {},
   "outputs": [],
   "source": [
    "nu_evtdf[\"scale\"] = data_pot / nu_pot\n",
    "ic_evtdf[\"scale\"] = ic_pot / nu_pot\n",
    "data_evtdf[\"scale\"] = 1\n",
    "\n",
    "nu_evtdf[\"mc\"] = True\n",
    "ic_evtdf[\"mc\"] = True\n",
    "data_evtdf[\"mc\"] = False"
   ]
  },
  {
   "cell_type": "code",
   "execution_count": null,
   "id": "2939c6c4",
   "metadata": {},
   "outputs": [],
   "source": [
    "evtdf = sample_concat(sample_concat(nu_evtdf, ic_evtdf), data_evtdf, 2_000_000)"
   ]
  },
  {
   "cell_type": "code",
   "execution_count": null,
   "id": "d2f37810",
   "metadata": {},
   "outputs": [],
   "source": [
    "scale = evtdf.scale.copy()"
   ]
  },
  {
   "cell_type": "code",
   "execution_count": null,
   "id": "b0b8e815",
   "metadata": {},
   "outputs": [],
   "source": [
    "is_nu = (evtdf.slc.tmatch.idx >= 0) & evtdf.mc\n",
    "is_nu.name = \"$\\\\nu$\"\n",
    "is_cosmic =( evtdf.slc.tmatch.idx < 0) & evtdf.mc\n",
    "is_cosmic.name = \"Cosmic\""
   ]
  },
  {
   "cell_type": "code",
   "execution_count": null,
   "id": "87eb3877",
   "metadata": {},
   "outputs": [],
   "source": [
    "categories = [is_cosmic, is_nu]"
   ]
  },
  {
   "cell_type": "code",
   "execution_count": null,
   "id": "51acdd6d",
   "metadata": {},
   "outputs": [],
   "source": []
  },
  {
   "cell_type": "code",
   "execution_count": null,
   "id": "52f126fe",
   "metadata": {},
   "outputs": [],
   "source": [
    "def ratioplot(var, when, xlabel, bins=None, ylog=False, legendrow=False, areanorm=False):\n",
    "    f, (axtop, axbot) = plt.subplots(2, gridspec_kw={'height_ratios': [2.5, 1]}, sharex=True, figsize=(6.4, 4.8*1.25))\n",
    "\n",
    "    N,bins = np.histogram(var[when & ~evtdf.mc], weights=scale[when & ~evtdf.mc], bins=bins)\n",
    "        \n",
    "    areascale = 1. if not areanorm else np.sum(scale[when & ~evtdf.mc]) / np.sum(scale[when & evtdf.mc])\n",
    "    \n",
    "    Nmc,_,_ = axtop.hist([var[when & c] for c in categories],\n",
    "                    weights=[areascale*scale[when & c] for c in categories],\n",
    "                    bins=bins, \n",
    "                    label=[c.name for c in categories], \n",
    "                    stacked=True, linewidth=2)\n",
    "    Nmc = Nmc[-1]\n",
    "    centers =(bins[1:] + bins[:-1]) /2.\n",
    "    \n",
    "    # axtop.text(0.675, 0.275, \"NuMI Data\\nRuns 8437,\\n8439, 8446\\n%.2g POT\" % data_pot, transform=axtop.transAxes)\n",
    "    axtop.set_title(\"NuMI Runs 8437, 8439, 8446: %.2g POT\" % data_pot)\n",
    "    axtop.errorbar(centers, N, np.sqrt(N), linestyle=\"none\",color=\"black\", capsize=4,fmt='.', elinewidth=2, markersize='10', label=\"Data\")\n",
    "\n",
    "    axbot.set_xlabel(xlabel)\n",
    "    if areanorm:\n",
    "        axtop.set_ylabel(\"Area Normalized Entries\")\n",
    "    else:\n",
    "        axtop.set_ylabel(\"POT Normalized Entries\")\n",
    "    \n",
    "    legend_kwargs = {}\n",
    "    if legendrow:\n",
    "        legend_kwargs[\"ncol\"] = len(categories) + 1\n",
    "        \n",
    "    axtop.legend(**legend_kwargs)\n",
    "    \n",
    "    if ylog:\n",
    "        axtop.set_yscale(\"log\")\n",
    "    \n",
    "    plt.subplots_adjust(wspace=0, hspace=0.02)\n",
    "\n",
    "    axbot.errorbar(centers, N/Nmc, np.sqrt(N)/Nmc, linestyle=\"none\",color=\"black\", capsize=4,fmt='.', elinewidth=2, markersize='10', label=\"Data / MC\")\n",
    "    axbot.set_ylabel(\"Data / MC\")\n",
    "    # axbot.axhline([1], color=\"black\", linestyle=\"--\")\n",
    "    \n",
    "    axtop.grid()\n",
    "    axbot.grid()\n",
    "\n",
    "    return axbot, axtop"
   ]
  },
  {
   "cell_type": "code",
   "execution_count": null,
   "id": "c0530daa",
   "metadata": {},
   "outputs": [],
   "source": [
    "var = evtdf.trunk.len\n",
    "when = SlcInFV(evtdf.slc.vertex)\n",
    "bins = np.linspace(0, 400, 21)\n",
    "\n",
    "ratioplot(var, when, \"Trunk Track Length [cm]\", bins, True)"
   ]
  },
  {
   "cell_type": "code",
   "execution_count": null,
   "id": "e7c41d98",
   "metadata": {},
   "outputs": [],
   "source": [
    "var = evtdf.branch.len\n",
    "when = SlcInFV(evtdf.slc.vertex)\n",
    "\n",
    "ratioplot(var, when, \"Branch Track Length [cm]\", bins, True)"
   ]
  },
  {
   "cell_type": "code",
   "execution_count": null,
   "id": "12e0d8ac",
   "metadata": {},
   "outputs": [],
   "source": [
    "var = evtdf.slc.vertex.x\n",
    "bins = np.linspace(-300, 300, 31)\n",
    "when = SlcInFV(evtdf.slc.vertex)\n",
    "\n",
    "ratioplot(var, when, \"Slice Vertex X [cm]\", bins)"
   ]
  },
  {
   "cell_type": "code",
   "execution_count": null,
   "id": "b213757f",
   "metadata": {},
   "outputs": [],
   "source": [
    "var = evtdf.slc.vertex.y\n",
    "bins = np.linspace(-200, 200, 31)\n",
    "when = SlcInFV(evtdf.slc.vertex)\n",
    "\n",
    "ratioplot(var, when, \"Slice Vertex Y [cm]\", bins)"
   ]
  },
  {
   "cell_type": "code",
   "execution_count": null,
   "id": "e0458ced",
   "metadata": {},
   "outputs": [],
   "source": [
    "var = evtdf.slc.vertex.z\n",
    "bins = np.linspace(-1e3, 1e3, 51)\n",
    "when = SlcInFV(evtdf.slc.vertex)\n",
    "\n",
    "ratioplot(var, when, \"Slice Vertex Z [cm]\", bins, legendrow=True)"
   ]
  },
  {
   "cell_type": "code",
   "execution_count": null,
   "id": "c7bf8e12",
   "metadata": {},
   "outputs": [],
   "source": [
    "var = evtdf.trunk.chi2pid.I2.chi2_proton\n",
    "bins = np.linspace(0, 400, 21)\n",
    "when = SlcInFV(evtdf.slc.vertex)\n",
    "\n",
    "ratioplot(var, when, \"Trunk $\\\\chi^2_p$\", bins)"
   ]
  },
  {
   "cell_type": "code",
   "execution_count": null,
   "id": "4f9e1141",
   "metadata": {},
   "outputs": [],
   "source": [
    "var = evtdf.trunk.chi2pid.I2.chi2_muon\n",
    "bins = np.linspace(0, 80, 21)\n",
    "when = SlcInFV(evtdf.slc.vertex)\n",
    "\n",
    "ratioplot(var, when, \"Trunk $\\\\chi^2_\\\\mu$\", bins)"
   ]
  },
  {
   "cell_type": "code",
   "execution_count": null,
   "id": "affac272",
   "metadata": {},
   "outputs": [],
   "source": [
    "var = evtdf.trunk.chi2pid.I2.chi2_proton\n",
    "bins = np.linspace(0, 400, 21)\n",
    "when = SlcInFV(evtdf.slc.vertex) & TrkInFV(evtdf.trunk.end)\n",
    "\n",
    "ratioplot(var, when, \"Contained Trunk $\\\\chi^2_p$\", bins)"
   ]
  },
  {
   "cell_type": "code",
   "execution_count": null,
   "id": "66f46b75",
   "metadata": {},
   "outputs": [],
   "source": [
    "var = evtdf.trunk.chi2pid.I2.chi2_muon\n",
    "bins = np.linspace(0, 80, 21)\n",
    "when = SlcInFV(evtdf.slc.vertex) & TrkInFV(evtdf.trunk.end)\n",
    "\n",
    "ratioplot(var, when, \"Contained Trunk $\\\\chi^2_\\\\mu$\", bins)"
   ]
  },
  {
   "cell_type": "code",
   "execution_count": null,
   "id": "d18fba9b",
   "metadata": {},
   "outputs": [],
   "source": [
    "var = evtdf.branch.chi2pid.I2.chi2_proton\n",
    "bins = np.linspace(0, 400, 21)\n",
    "when = SlcInFV(evtdf.slc.vertex)\n",
    "\n",
    "ratioplot(var, when, \"Branch $\\\\chi^2_p$\", bins)"
   ]
  },
  {
   "cell_type": "code",
   "execution_count": null,
   "id": "89e90220",
   "metadata": {},
   "outputs": [],
   "source": [
    "var = evtdf.branch.chi2pid.I2.chi2_muon\n",
    "bins = np.linspace(0, 80, 21)\n",
    "when = SlcInFV(evtdf.slc.vertex)\n",
    "\n",
    "ratioplot(var, when, \"Branch $\\\\chi^2_\\\\mu$\", bins)"
   ]
  },
  {
   "cell_type": "code",
   "execution_count": null,
   "id": "6e47fde9",
   "metadata": {},
   "outputs": [],
   "source": [
    "var = evtdf.branch.chi2pid.I2.chi2_proton\n",
    "bins = np.linspace(0, 400, 21)\n",
    "when = SlcInFV(evtdf.slc.vertex) & TrkInFV(evtdf.branch.end)\n",
    "\n",
    "ratioplot(var, when, \"Contained Branch $\\\\chi^2_p$\", bins)"
   ]
  },
  {
   "cell_type": "code",
   "execution_count": null,
   "id": "67512260",
   "metadata": {},
   "outputs": [],
   "source": [
    "var = evtdf.branch.chi2pid.I2.chi2_muon\n",
    "bins = np.linspace(0, 80, 21)\n",
    "when = SlcInFV(evtdf.slc.vertex) & TrkInFV(evtdf.branch.end)\n",
    "\n",
    "ratioplot(var, when, \"Contained Branch $\\\\chi^2_\\\\mu$\", bins)"
   ]
  },
  {
   "cell_type": "code",
   "execution_count": null,
   "id": "cc6b96e8",
   "metadata": {},
   "outputs": [],
   "source": [
    "var = evtdf.slc.fmatch.time\n",
    "when = SlcInFV(evtdf.slc.vertex) \n",
    "bins = np.linspace(-50, 50, 21)\n",
    "\n",
    "axbot, axtop = ratioplot(var, when, \"Flash Time [$\\\\mu$s]\", bins=bins)\n",
    "\n",
    "axbot.set_ylim([0,4.5])"
   ]
  },
  {
   "cell_type": "code",
   "execution_count": null,
   "id": "583f67ca",
   "metadata": {},
   "outputs": [],
   "source": [
    "var = evtdf.slc.fmatch.score\n",
    "when = SlcInFV(evtdf.slc.vertex) \n",
    "bins = np.linspace(0, 50, 21)\n",
    "\n",
    "ratioplot(var, when, \"Flash Score\", bins=bins)"
   ]
  },
  {
   "cell_type": "code",
   "execution_count": null,
   "id": "a3e68681",
   "metadata": {},
   "outputs": [],
   "source": [
    "evtdf[~evtdf.mc].slc.fmatch.time"
   ]
  },
  {
   "cell_type": "code",
   "execution_count": null,
   "id": "062ff7e7",
   "metadata": {},
   "outputs": [],
   "source": []
  }
 ],
 "metadata": {
  "kernelspec": {
   "display_name": "Python 3 (ipykernel)",
   "language": "python",
   "name": "python3"
  },
  "language_info": {
   "codemirror_mode": {
    "name": "ipython",
    "version": 3
   },
   "file_extension": ".py",
   "mimetype": "text/x-python",
   "name": "python",
   "nbconvert_exporter": "python",
   "pygments_lexer": "ipython3",
   "version": "3.9.2"
  }
 },
 "nbformat": 4,
 "nbformat_minor": 5
}
